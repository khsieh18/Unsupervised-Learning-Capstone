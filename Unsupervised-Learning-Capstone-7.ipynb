{
 "cells": [
  {
   "cell_type": "markdown",
   "metadata": {},
   "source": [
    "For this project you'll dig into a large amount of text and apply most of what you've covered in this unit and in the course so far.\n",
    "\n",
    "First, pick a set of texts. This can be either a series of novels, chapters, or articles. Anything you'd like. It just has to have multiple entries of varying characteristics. At least 100 should be good. There should also be at least 10 different authors, but try to keep the texts related (either all on the same topic of from the same branch of literature - something to make classification a bit more difficult than obviously different subjects).\n",
    "\n",
    "This capstone can be an extension of your NLP challenge if you wish to use the same corpus. If you found problems with that data set that limited your analysis, however, it may be worth using what you learned to choose a new corpus. Reserve 25% of your corpus as a test set.\n",
    "\n",
    "The first technique is to create a series of clusters. Try several techniques and pick the one you think best represents your data. Make sure there is a narrative and reasoning around why you have chosen the given clusters. Are authors consistently grouped into the same cluster?\n",
    "\n",
    "Next, perform some unsupervised feature generation and selection using the techniques covered in this unit and elsewhere in the course. Using those features then build models to attempt to classify your texts by author. Try different permutations of unsupervised and supervised techniques to see which combinations have the best performance.\n",
    "\n",
    "Lastly return to your holdout group. Does your clustering on those members perform as you'd expect? Have your clusters remained stable or changed dramatically? What about your model? Is it's performance consistent?\n",
    "\n",
    "If there is a divergence in the relative stability of your model and your clusters, delve into why.\n",
    "\n",
    "Your end result should be a write up of how clustering and modeling compare for classifying your texts. What are the advantages of each? Why would you want to use one over the other? Approximately 3-5 pages is a good length for your write up, and remember to include visuals to help tell your story!"
   ]
  },
  {
   "cell_type": "code",
   "execution_count": 1,
   "metadata": {},
   "outputs": [],
   "source": [
    "%matplotlib inline\n",
    "import numpy as np\n",
    "import pandas as pd\n",
    "import scipy\n",
    "import sklearn\n",
    "import matplotlib.pyplot as plt\n",
    "import seaborn as sns\n",
    "import re"
   ]
  },
  {
   "cell_type": "code",
   "execution_count": 2,
   "metadata": {},
   "outputs": [],
   "source": [
    "import warnings\n",
    "warnings.filterwarnings(\"ignore\")"
   ]
  },
  {
   "cell_type": "code",
   "execution_count": 3,
   "metadata": {},
   "outputs": [],
   "source": [
    "import spacy\n",
    "nlp = spacy.load('en')"
   ]
  },
  {
   "cell_type": "code",
   "execution_count": 4,
   "metadata": {},
   "outputs": [],
   "source": [
    "from sklearn.feature_extraction.text import TfidfVectorizer\n",
    "from sklearn.cluster import KMeans\n",
    "from sklearn.metrics import adjusted_rand_score"
   ]
  },
  {
   "cell_type": "markdown",
   "metadata": {},
   "source": [
    "## Load files"
   ]
  },
  {
   "cell_type": "code",
   "execution_count": 5,
   "metadata": {
    "scrolled": false
   },
   "outputs": [],
   "source": [
    "filename=['brady.txt','butler.txt','cutting.txt','dawson.txt','dyke.txt',\n",
    "          'hughes.txt','mitchell.txt','richmond.txt','rinehart.txt','stretton.txt',]"
   ]
  },
  {
   "cell_type": "code",
   "execution_count": 6,
   "metadata": {},
   "outputs": [],
   "source": [
    "def text_creater(filename):\n",
    "    file=open(filename,'r')\n",
    "    text=file.read()\n",
    "    file.close\n",
    "    return text"
   ]
  },
  {
   "cell_type": "code",
   "execution_count": 7,
   "metadata": {
    "scrolled": false
   },
   "outputs": [],
   "source": [
    "def text_cleaner(text):\n",
    "    text=re.sub(r'ï»¿','',text)\n",
    "    text=re.sub(r'\\n','',text)\n",
    "    text=re.sub('\\[[^()]*\\]','',text)\n",
    "    text=re.sub('\\([^()]*\\)','',text)\n",
    "    text=re.sub('[^\\w\\.\\,]',' ',text)\n",
    "    \n",
    "    #text=' '.join(text.split())\n",
    "    text_split=text.split()\n",
    "    text=', '.join('\"'+ item +'\"' for item in text_split)\n",
    "    \n",
    "    return text"
   ]
  },
  {
   "cell_type": "code",
   "execution_count": 8,
   "metadata": {},
   "outputs": [],
   "source": [
    "sentences = pd.DataFrame()\n",
    "for i in range(len(filename)):\n",
    "    text = text_creater(filename[i])\n",
    "    text_clean = text_cleaner(text)\n",
    "    text_doc = nlp(text_clean)\n",
    "    author=filename[i].replace('.txt','')\n",
    "    \n",
    "    #text_sents=[[sent,author] for sent in text_doc.sents]\n",
    "    text_sents=[sent for sent in text_doc.sents]\n",
    "    \n",
    "    #sentences = pd.DataFrame.append(pd.DataFrame(text_sents))\n",
    "    sentences=sentences.append(pd.DataFrame(text_sents))"
   ]
  },
  {
   "cell_type": "code",
   "execution_count": 9,
   "metadata": {},
   "outputs": [
    {
     "data": {
      "text/plain": [
       "'\"The\", \"Project\", \"Gutenberg\", \"EBook\", \"of\", \"The\", \"Christmas\", \"Child,\", \"by\", \"Hesba\", \"StrettonThis\", \"eBook\", \"is\", \"for\", \"the\", \"use\", \"of\", \"anyone\", \"anywhere\", \"at\", \"no\", \"cost\", \"and\", \"withalmost\", \"no\", \"restrictions\", \"whatsoever.\", \"You\", \"may\", \"copy\", \"it,\", \"give\", \"it\", \"away\", \"orre\", \"use\", \"it\", \"under\", \"the\", \"terms\", \"of\", \"the\", \"Project\", \"Gutenberg\", \"License\", \"includedwith\", \"this\", \"eBook\", \"or\", \"online\", \"at\", \"www.gutenberg.orgTitle\", \"The\", \"Christmas\", \"ChildAuthor\", \"Hesba\", \"StrettonIllustrator\", \"K.\", \"StreetRelease\", \"Date\", \"January\", \"27,\", \"2007\", \"Ay\", \"if\", \"aunty\", \"will\", \"let\", \"me,\", \"answered\", \"Rhoda,\", \"smiling\", \"she\", \"ll\", \"love\", \"thebaby,\", \"I\", \"know,\", \"now\", \"she\", \"s\", \"reconciled\", \"to\", \"me.\", \"Nathan,\", \"she\", \"forgives\", \"me,and\", \"God\", \"forgives\", \"me.\", \"I\", \"m\", \"not\", \"unhappy\", \"any\", \"more.\", \"Rhoda,\", \"my\", \"lass,\", \"said\", \"old\", \"Nathan,\", \"thy\", \"aunt\", \"ill\", \"never\", \"be\", \"happy\", \"nomore,\", \"if\", \"thou\", \"dies.\", \"She\", \"s\", \"pardoned\", \"thee\", \"with\", \"all\", \"her\", \"heart\", \"and\", \"thoumust\", \"try\", \"to\", \"live,\", \"and\", \"pay\", \"her\", \"back.\", \"Tell\", \"me\", \"where\", \"thou\", \"s\", \"been\", \"all\", \"thislong\", \"while.\", \"For\", \"a\", \"few\", \"minutes\", \"Rhoda\", \"lay\", \"silent,\", \"with\", \"a\", \"look\", \"of\", \"pain\", \"on\", \"her\", \"young,pale\", \"face.\", \"I\", \"dare\", \"n\", \"t\", \"ever\", \"have\", \"spoke\", \"to\", \"aunty,\", \"she\", \"murmured\", \"at\", \"last,\", \"she\", \"s\", \"sobitter\", \"against\", \"marrying.\", \"And\", \"so\", \"I\", \"ran\", \"away,\", \"and\", \"we\", \"were\", \"married\", \"atBristol\", \"and\", \"then\", \"we\", \"went\", \"to\", \"London\", \"and\", \"Evan\", \"deserted\", \"me\", \"before\", \"babywas\", \"born.\", \"I\", \"couldn\", \"t\", \"find\", \"him\", \"again\", \"anywhere\", \"in\", \"London\", \"and\", \"it\", \"was\", \"adreadful\", \"place\", \"to\", \"stay\", \"in\", \"without\", \"money,\", \"and\", \"no\", \"home.\", \"He\", \"hadn\", \"t\", \"beengood\", \"to\", \"me\", \"for\", \"a\", \"long\", \"while\", \"before\", \"he\", \"left\", \"me.\", \"I\", \"ve\", \"been\", \"a\", \"very\", \"wickedgirl,\", \"but\", \"I\", \"ve\", \"been\", \"sorely\", \"punished\", \"for\", \"it,\", \"Nathan\", \"and\", \"I\", \"d\", \"rather\", \"dienow,\", \"I\", \"think,\", \"than\", \"get\", \"well\", \"again.\", \"My\", \"poor\", \"lass\", \"answered\", \"old\", \"Nathan,\", \"pitifully,\", \"say,\", \"Let\", \"it\", \"be\", \"as\", \"Godpleases.\", \"Let\", \"it\", \"be\", \"as\", \"God\", \"pleases\", \"repeated\", \"Rhoda,\", \"in\", \"her\", \"faint,\", \"hollow\", \"voice.Never\", \"could\", \"anyone\", \"be\", \"better\", \"nursed\", \"than\", \"Rhoda\", \"was\", \"nursed.\", \"AuntPriscilla\", \"watched\", \"over\", \"her\", \"day\", \"and\", \"night,\", \"hardly\", \"taking\", \"rest,\", \"andsleeping\", \"only\", \"a\", \"few\", \"minutes\", \"at\", \"a\", \"time.\", \"No\", \"noise\", \"was\", \"permitted\", \"about\", \"thefarm\", \"that\", \"could\", \"disturb\", \"her\", \"only\", \"the\", \"old,\", \"familiar\", \"sounds\", \"of\", \"cattlelowing,\", \"and\", \"sheep\", \"bleating,\", \"and\", \"the\", \"cackling\", \"of\", \"barn\", \"door\", \"fowls,\", \"whichwere\", \"as\", \"soothing\", \"as\", \"pleasant\", \"music\", \"to\", \"her\", \"ears.\", \"Joan\", \"and\", \"the\", \"baby\", \"werealways\", \"in\", \"sight\", \"except\", \"when\", \"they\", \"were\", \"sleeping\", \"in\", \"a\", \"little\", \"bed\", \"on\", \"thefloor,\", \"near\", \"at\", \"hand,\", \"that\", \"she\", \"might\", \"never\", \"feel\", \"any\", \"fear\", \"concerningthem.\", \"Every\", \"morsel\", \"of\", \"food\", \"she\", \"ate\", \"was\", \"prepared\", \"by\", \"Aunt\", \"Priscillaherself,\", \"who\", \"would\", \"not\", \"trust\", \"even\", \"Nurse\", \"Williams\", \"to\", \"do\", \"anything\", \"forRhoda.For\", \"a\", \"few\", \"days\", \"it\", \"was\", \"very\", \"doubtful\", \"whether\", \"she\", \"could\", \"recover\", \"from\", \"thecold\", \"and\", \"hunger\", \"and\", \"weariness\", \"she\", \"had\", \"endured\", \"but\", \"by\", \"and\", \"by\", \"there\", \"camea\", \"slight\", \"change,\", \"and\", \"by\", \"the\", \"time\", \"the\", \"spring\", \"began\", \"there\", \"was\", \"no\", \"longerany\", \"fear\", \"of\", \"her\", \"dying.But\", \"Rhoda\", \"was\", \"never\", \"the\", \"same\", \"again.\", \"Her\", \"pretty\", \"looks\", \"were\", \"gone,\", \"and\", \"sowere\", \"her\", \"merry\", \"ways.\", \"She\", \"was\", \"a\", \"quiet\", \"and\", \"grave\", \"woman\", \"now\", \"often\", \"sad.Year\", \"after\", \"year\", \"went\", \"by,\", \"and\", \"she\", \"heard\", \"nothing\", \"of\", \"the\", \"husband\", \"who\", \"haddeserted\", \"her.\", \"Her\", \"aunt\", \"found\", \"her\", \"more\", \"of\", \"a\", \"companion\", \"than\", \"she\", \"had\", \"everbeen\", \"before\", \"and\", \"they\", \"two,\", \"with\", \"old\", \"Nathan,\", \"gleaned\", \"all\", \"the\", \"brightnessof\", \"their\", \"lives\", \"from\", \"Joan\", \"and\", \"the\", \"baby.The\", \"old\", \"farmstead\", \"was\", \"a\", \"happier\", \"home\", \"for\", \"Joan\", \"than\", \"it\", \"had\", \"ever\", \"been\", \"forRhoda.\", \"She\", \"had\", \"few\", \"indulgences,\", \"but\", \"she\", \"had\", \"the\", \"baby,\", \"the\", \"wonderfulchild\", \"whom\", \"she\", \"had\", \"found\", \"lying\", \"in\", \"the\", \"manger\", \"on\", \"Christmas\", \"Day.By\", \"and\", \"by,\", \"as\", \"she\", \"grew\", \"older,\", \"she\", \"understood\", \"Rhoda\", \"s\", \"sorrowful\", \"story,and\", \"how\", \"it\", \"was\", \"he\", \"had\", \"been\", \"laid\", \"there\", \"in\", \"order\", \"that\", \"she\", \"might\", \"find\", \"him.But\", \"every\", \"Christmas\", \"morning\", \"she\", \"stole\", \"early\", \"across\", \"the\", \"fold,\", \"and\", \"intothe\", \"silent\", \"and\", \"empty\", \"shed,\", \"as\", \"if\", \"to\", \"seek\", \"the\", \"Christmas\", \"child\", \"and\", \"whenthe\", \"baby\", \"was\", \"old\", \"enough\", \"she\", \"took\", \"him\", \"with\", \"her,\", \"and\", \"told\", \"him\", \"how\", \"she\", \"hadfound\", \"him\", \"there,\", \"and\", \"knew\", \"he\", \"was\", \"come\", \"to\", \"bring\", \"Peace\", \"on\", \"earth\", \"and\", \"mercy\", \"mild,\", \"God\", \"and\", \"sinners\", \"reconciled.End\", \"of\", \"the\", \"Project\", \"Gutenberg\", \"EBook\", \"of\", \"The\", \"Christmas\", \"Child,\", \"by\", \"Hesba\", \"Stretton\", \"END\", \"OF\", \"THIS\", \"PROJECT\", \"GUTENBERG\", \"EBOOK\", \"THE\", \"CHRISTMAS\", \"CHILD\", \"This\", \"file\", \"should\", \"be\", \"named\", \"20453.txt\", \"or\", \"20453.zip\", \"This\", \"and\", \"all\", \"associated\", \"files\", \"of\", \"various\", \"formats\", \"will\", \"be\", \"found\", \"in\", \"http\", \"www.gutenberg.org\", \"2\", \"0\", \"4\", \"5\", \"20453\", \"Produced\", \"by\", \"Juliet\", \"Sutherland,\", \"Janet\", \"Blenkinship\", \"and\", \"theOnline\", \"Distributed\", \"Proofreading\", \"Team\", \"at\", \"http\", \"www.pgdp.netUpdated\", \"editions\", \"will\", \"replace\", \"the\", \"previous\", \"one\", \"the\", \"old\", \"editionswill\", \"be\", \"renamed.Creating\", \"the\", \"works\", \"from\", \"public\", \"domain\", \"print\", \"editions\", \"means\", \"that\", \"noone\", \"owns\", \"a\", \"United\", \"States\", \"copyright\", \"in\", \"these\", \"works,\", \"so\", \"the\", \"Foundation\", \"can\", \"copy\", \"and\", \"distribute\", \"it\", \"in\", \"the\", \"United\", \"States\", \"withoutpermission\", \"and\", \"without\", \"paying\", \"copyright\", \"royalties.\", \"Special\", \"rules,set\", \"forth\", \"in\", \"the\", \"General\", \"Terms\", \"of\", \"Use\", \"part\", \"of\", \"this\", \"license,\", \"apply\", \"tocopying\", \"and\", \"distributing\", \"Project\", \"Gutenberg\", \"tm\", \"electronic\", \"works\", \"toprotect\", \"the\", \"PROJECT\", \"GUTENBERG\", \"tm\", \"concept\", \"and\", \"trademark.\", \"ProjectGutenberg\", \"is\", \"a\", \"registered\", \"trademark,\", \"and\", \"may\", \"not\", \"be\", \"used\", \"if\", \"youcharge\", \"for\", \"the\", \"eBooks,\", \"unless\", \"you\", \"receive\", \"specific\", \"permission.\", \"If\", \"youdo\", \"not\", \"charge\", \"anything\", \"for\", \"copies\", \"of\", \"this\", \"eBook,\", \"complying\", \"with\", \"therules\", \"is\", \"very\", \"easy.\", \"You\", \"may\", \"use\", \"this\", \"eBook\", \"for\", \"nearly\", \"any\", \"purposesuch\", \"as\", \"creation\", \"of\", \"derivative\", \"works,\", \"reports,\", \"performances\", \"andresearch.\", \"They\", \"may\", \"be\", \"modified\", \"and\", \"printed\", \"and\", \"given\", \"away\", \"you\", \"may\", \"dopractically\", \"ANYTHING\", \"with\", \"public\", \"domain\", \"eBooks.\", \"Redistribution\", \"issubject\", \"to\", \"the\", \"trademark\", \"license,\", \"especially\", \"commercialredistribution.\", \"START\", \"FULL\", \"LICENSE\", \"THE\", \"FULL\", \"PROJECT\", \"GUTENBERG\", \"LICENSEPLEASE\", \"READ\", \"THIS\", \"BEFORE\", \"YOU\", \"DISTRIBUTE\", \"OR\", \"USE\", \"THIS\", \"WORKTo\", \"protect\", \"the\", \"Project\", \"Gutenberg\", \"tm\", \"mission\", \"of\", \"promoting\", \"the\", \"freedistribution\", \"of\", \"electronic\", \"works,\", \"by\", \"using\", \"or\", \"distributing\", \"this\", \"work,\", \"you\", \"agree\", \"to\", \"comply\", \"with\", \"all\", \"the\", \"terms\", \"of\", \"the\", \"Full\", \"ProjectGutenberg\", \"tm\", \"License\", \".Section\", \"1.\", \"General\", \"Terms\", \"of\", \"Use\", \"and\", \"Redistributing\", \"Project\", \"Gutenberg\", \"tmelectronic\", \"works1.A.\", \"By\", \"reading\", \"or\", \"using\", \"any\", \"part\", \"of\", \"this\", \"Project\", \"Gutenberg\", \"tmelectronic\", \"work,\", \"you\", \"indicate\", \"that\", \"you\", \"have\", \"read,\", \"understand,\", \"agree\", \"toand\", \"accept\", \"all\", \"the\", \"terms\", \"of\", \"this\", \"license\", \"and\", \"intellectual\", \"property\", \"agreement.\", \"If\", \"you\", \"do\", \"not\", \"agree\", \"to\", \"abide\", \"by\", \"allthe\", \"terms\", \"of\", \"this\", \"agreement,\", \"you\", \"must\", \"cease\", \"using\", \"and\", \"return\", \"or\", \"destroyall\", \"copies\", \"of\", \"Project\", \"Gutenberg\", \"tm\", \"electronic\", \"works\", \"in\", \"your\", \"possession.If\", \"you\", \"paid\", \"a\", \"fee\", \"for\", \"obtaining\", \"a\", \"copy\", \"of\", \"or\", \"access\", \"to\", \"a\", \"ProjectGutenberg\", \"tm\", \"electronic\", \"work\", \"and\", \"you\", \"do\", \"not\", \"agree\", \"to\", \"be\", \"bound\", \"by\", \"theterms\", \"of\", \"this\", \"agreement,\", \"you\", \"may\", \"obtain\", \"a\", \"refund\", \"from\", \"the\", \"person\", \"orentity\", \"to\", \"whom\", \"you\", \"paid\", \"the\", \"fee\", \"as\", \"set\", \"forth\", \"in\", \"paragraph\", \"1.E.8.1.B.\", \"Project\", \"Gutenberg\", \"is\", \"a\", \"registered\", \"trademark.\", \"It\", \"may\", \"only\", \"beused\", \"on\", \"or\", \"associated\", \"in\", \"any\", \"way\", \"with\", \"an\", \"electronic\", \"work\", \"by\", \"people\", \"whoagree\", \"to\", \"be\", \"bound\", \"by\", \"the\", \"terms\", \"of\", \"this\", \"agreement.\", \"There\", \"are\", \"a\", \"fewthings\", \"that\", \"you\", \"can\", \"do\", \"with\", \"most\", \"Project\", \"Gutenberg\", \"tm\", \"electronic\", \"workseven\", \"without\", \"complying\", \"with\", \"the\", \"full\", \"terms\", \"of\", \"this\", \"agreement.\", \"Seeparagraph\", \"1.C\", \"below.\", \"There\", \"are\", \"a\", \"lot\", \"of\", \"things\", \"you\", \"can\", \"do\", \"with\", \"ProjectGutenberg\", \"tm\", \"electronic\", \"works\", \"if\", \"you\", \"follow\", \"the\", \"terms\", \"of\", \"this\", \"agreementand\", \"help\", \"preserve\", \"free\", \"future\", \"access\", \"to\", \"Project\", \"Gutenberg\", \"tm\", \"electronicworks.\", \"See\", \"paragraph\", \"1.E\", \"below.1.C.\", \"The\", \"Project\", \"Gutenberg\", \"Literary\", \"Archive\", \"Foundation\", \",\", \"owns\", \"a\", \"compilation\", \"copyright\", \"in\", \"the\", \"collection\", \"of\", \"ProjectGutenberg\", \"tm\", \"electronic\", \"works.\", \"Nearly\", \"all\", \"the\", \"individual\", \"works\", \"in\", \"thecollection\", \"are\", \"in\", \"the\", \"public\", \"domain\", \"in\", \"the\", \"United\", \"States.\", \"If\", \"anindividual\", \"work\", \"is\", \"in\", \"the\", \"public\", \"domain\", \"in\", \"the\", \"United\", \"States\", \"and\", \"you\", \"arelocated\", \"in\", \"the\", \"United\", \"States,\", \"we\", \"do\", \"not\", \"claim\", \"a\", \"right\", \"to\", \"prevent\", \"you\", \"fromcopying,\", \"distributing,\", \"performing,\", \"displaying\", \"or\", \"creating\", \"derivativeworks\", \"based\", \"on\", \"the\", \"work\", \"as\", \"long\", \"as\", \"all\", \"references\", \"to\", \"Project\", \"Gutenbergare\", \"removed.\", \"Of\", \"course,\", \"we\", \"hope\", \"that\", \"you\", \"will\", \"support\", \"the\", \"ProjectGutenberg\", \"tm\", \"mission\", \"of\", \"promoting\", \"free\", \"access\", \"to\", \"electronic\", \"works\", \"byfreely\", \"sharing\", \"Project\", \"Gutenberg\", \"tm\", \"works\", \"in\", \"compliance\", \"with\", \"the\", \"terms\", \"ofthis\", \"agreement\", \"for\", \"keeping\", \"the\", \"Project\", \"Gutenberg\", \"tm\", \"name\", \"associated\", \"withthe\", \"work.\", \"You\", \"can\", \"easily\", \"comply\", \"with\", \"the\", \"terms\", \"of\", \"this\", \"agreement\", \"bykeeping\", \"this\", \"work\", \"in\", \"the\", \"same\", \"format\", \"with\", \"its\", \"attached\", \"full\", \"ProjectGutenberg\", \"tm\", \"License\", \"when\", \"you\", \"share\", \"it\", \"without\", \"charge\", \"with\", \"others.1.D.\", \"The\", \"copyright\", \"laws\", \"of\", \"the\", \"place\", \"where\", \"you\", \"are\", \"located\", \"also\", \"governwhat\", \"you\", \"can\", \"do\", \"with\", \"this\", \"work.\", \"Copyright\", \"laws\", \"in\", \"most\", \"countries\", \"are\", \"ina\", \"constant\", \"state\", \"of\", \"change.\", \"If\", \"you\", \"are\", \"outside\", \"the\", \"United\", \"States,\", \"checkthe\", \"laws\", \"of\", \"your\", \"country\", \"in\", \"addition\", \"to\", \"the\", \"terms\", \"of\", \"this\", \"agreementbefore\", \"downloading,\", \"copying,\", \"displaying,\", \"performing,\", \"distributing\", \"orcreating\", \"derivative\", \"works\", \"based\", \"on\", \"this\", \"work\", \"or\", \"any\", \"other\", \"ProjectGutenberg\", \"tm\", \"work.\", \"The\", \"Foundation\", \"makes\", \"no\", \"representations\", \"concerningthe\", \"copyright\", \"status\", \"of\", \"any\", \"work\", \"in\", \"any\", \"country\", \"outside\", \"the\", \"UnitedStates.1.E.\", \"Unless\", \"you\", \"have\", \"removed\", \"all\", \"references\", \"to\", \"Project\", \"Gutenberg\", \"1.E.1.\", \"The\", \"following\", \"sentence,\", \"with\", \"active\", \"links\", \"to,\", \"or\", \"other\", \"immediateaccess\", \"to,\", \"the\", \"full\", \"Project\", \"Gutenberg\", \"tm\", \"License\", \"must\", \"appear\", \"prominentlywhenever\", \"any\", \"copy\", \"of\", \"a\", \"Project\", \"Gutenberg\", \"tm\", \"work\", \"is\", \"accessed,\", \"displayed,\", \"performed,\", \"viewed,copied\", \"or\", \"distributed\", \"This\", \"eBook\", \"is\", \"for\", \"the\", \"use\", \"of\", \"anyone\", \"anywhere\", \"at\", \"no\", \"cost\", \"and\", \"withalmost\", \"no\", \"restrictions\", \"whatsoever.\", \"You\", \"may\", \"copy\", \"it,\", \"give\", \"it\", \"away\", \"orre\", \"use\", \"it\", \"under\", \"the\", \"terms\", \"of\", \"the\", \"Project\", \"Gutenberg\", \"License\", \"includedwith\", \"this\", \"eBook\", \"or\", \"online\", \"at\", \"www.gutenberg.org1.E.2.\", \"If\", \"an\", \"individual\", \"Project\", \"Gutenberg\", \"tm\", \"electronic\", \"work\", \"is\", \"derivedfrom\", \"the\", \"public\", \"domain\", \",\", \"the\", \"work\", \"can\", \"be\", \"copiedand\", \"distributed\", \"to\", \"anyone\", \"in\", \"the\", \"United\", \"States\", \"without\", \"paying\", \"any\", \"feesor\", \"charges.\", \"If\", \"you\", \"are\", \"redistributing\", \"or\", \"providing\", \"access\", \"to\", \"a\", \"workwith\", \"the\", \"phrase\", \"Project\", \"Gutenberg\", \"associated\", \"with\", \"or\", \"appearing\", \"on\", \"thework,\", \"you\", \"must\", \"comply\", \"either\", \"with\", \"the\", \"requirements\", \"of\", \"paragraphs\", \"1.E.1through\", \"1.E.7\", \"or\", \"obtain\", \"permission\", \"for\", \"the\", \"use\", \"of\", \"the\", \"work\", \"and\", \"theProject\", \"Gutenberg\", \"tm\", \"trademark\", \"as\", \"set\", \"forth\", \"in\", \"paragraphs\", \"1.E.8\", \"or1.E.9.1.E.3.\", \"If\", \"an\", \"individual\", \"Project\", \"Gutenberg\", \"tm\", \"electronic\", \"work\", \"is\", \"postedwith\", \"the\", \"permission\", \"of\", \"the\", \"copyright\", \"holder,\", \"your\", \"use\", \"and\", \"distributionmust\", \"comply\", \"with\", \"both\", \"paragraphs\", \"1.E.1\", \"through\", \"1.E.7\", \"and\", \"any\", \"additionalterms\", \"imposed\", \"by\", \"the\", \"copyright\", \"holder.\", \"Additional\", \"terms\", \"will\", \"be\", \"linkedto\", \"the\", \"Project\", \"Gutenberg\", \"tm\", \"License\", \"for\", \"all\", \"works\", \"posted\", \"with\", \"thepermission\", \"of\", \"the\", \"copyright\", \"holder\", \"found\", \"at\", \"the\", \"beginning\", \"of\", \"this\", \"work.1.E.4.\", \"Do\", \"not\", \"unlink\", \"or\", \"detach\", \"or\", \"remove\", \"the\", \"full\", \"Project\", \"Gutenberg\", \"tmLicense\", \"terms\", \"from\", \"this\", \"work,\", \"or\", \"any\", \"files\", \"containing\", \"a\", \"part\", \"of\", \"thiswork\", \"or\", \"any\", \"other\", \"work\", \"associated\", \"with\", \"Project\", \"Gutenberg\", \"tm.1.E.5.\", \"Do\", \"not\", \"copy,\", \"display,\", \"perform,\", \"distribute\", \"or\", \"redistribute\", \"thiselectronic\", \"work,\", \"or\", \"any\", \"part\", \"of\", \"this\", \"electronic\", \"work,\", \"withoutprominently\", \"displaying\", \"the\", \"sentence\", \"set\", \"forth\", \"in\", \"paragraph\", \"1.E.1\", \"withactive\", \"links\", \"or\", \"immediate\", \"access\", \"to\", \"the\", \"full\", \"terms\", \"of\", \"the\", \"ProjectGutenberg\", \"tm\", \"License.1.E.6.\", \"You\", \"may\", \"convert\", \"to\", \"and\", \"distribute\", \"this\", \"work\", \"in\", \"any\", \"binary,compressed,\", \"marked\", \"up,\", \"nonproprietary\", \"or\", \"proprietary\", \"form,\", \"including\", \"anyword\", \"processing\", \"or\", \"hypertext\", \"form.\", \"However,\", \"if\", \"you\", \"provide\", \"access\", \"to\", \"ordistribute\", \"copies\", \"of\", \"a\", \"Project\", \"Gutenberg\", \"tm\", \"work\", \"in\", \"a\", \"format\", \"other\", \"than\", \"Plain\", \"Vanilla\", \"ASCII\", \"or\", \"other\", \"format\", \"used\", \"in\", \"the\", \"official\", \"versionposted\", \"on\", \"the\", \"official\", \"Project\", \"Gutenberg\", \"tm\", \"web\", \"site\", \",you\", \"must,\", \"at\", \"no\", \"additional\", \"cost,\", \"fee\", \"or\", \"expense\", \"to\", \"the\", \"user,\", \"provide\", \"acopy,\", \"a\", \"means\", \"of\", \"exporting\", \"a\", \"copy,\", \"or\", \"a\", \"means\", \"of\", \"obtaining\", \"a\", \"copy\", \"uponrequest,\", \"of\", \"the\", \"work\", \"in\", \"its\", \"original\", \"Plain\", \"Vanilla\", \"ASCII\", \"or\", \"otherform.\", \"Any\", \"alternate\", \"format\", \"must\", \"include\", \"the\", \"full\", \"Project\", \"Gutenberg\", \"tmLicense\", \"as\", \"specified\", \"in\", \"paragraph\", \"1.E.1.1.E.7.\", \"Do\", \"not\", \"charge\", \"a\", \"fee\", \"for\", \"access\", \"to,\", \"viewing,\", \"displaying,performing,\", \"copying\", \"or\", \"distributing\", \"any\", \"Project\", \"Gutenberg\", \"tm\", \"worksunless\", \"you\", \"comply\", \"with\", \"paragraph\", \"1.E.8\", \"or\", \"1.E.9.1.E.8.\", \"You\", \"may\", \"charge\", \"a\", \"reasonable\", \"fee\", \"for\", \"copies\", \"of\", \"or\", \"providingaccess\", \"to\", \"or\", \"distributing\", \"Project\", \"Gutenberg\", \"tm\", \"electronic\", \"works\", \"providedthat\", \"You\", \"pay\", \"a\", \"royalty\", \"fee\", \"of\", \"20\", \"of\", \"the\", \"gross\", \"profits\", \"you\", \"derive\", \"from\", \"the\", \"use\", \"of\", \"Project\", \"Gutenberg\", \"tm\", \"works\", \"calculated\", \"using\", \"the\", \"method\", \"you\", \"already\", \"use\", \"to\", \"calculate\", \"your\", \"applicable\", \"taxes.\", \"The\", \"fee\", \"is\", \"owed\", \"to\", \"the\", \"owner\", \"of\", \"the\", \"Project\", \"Gutenberg\", \"tm\", \"trademark,\", \"but\", \"he\", \"has\", \"agreed\", \"to\", \"donate\", \"royalties\", \"under\", \"this\", \"paragraph\", \"to\", \"the\", \"Project\", \"Gutenberg\", \"Literary\", \"Archive\", \"Foundation.\", \"Royalty\", \"payments\", \"must\", \"be\", \"paid\", \"within\", \"60\", \"days\", \"following\", \"each\", \"date\", \"on\", \"which\", \"you\", \"prepare\", \"your\", \"periodic\", \"tax\", \"returns.\", \"Royalty\", \"payments\", \"should\", \"be\", \"clearly\", \"marked\", \"as\", \"such\", \"and\", \"sent\", \"to\", \"the\", \"Project\", \"Gutenberg\", \"Literary\", \"Archive\", \"Foundation\", \"at\", \"the\", \"address\", \"specified\", \"in\", \"Section\", \"4,\", \"Information\", \"about\", \"donations\", \"to\", \"the\", \"Project\", \"Gutenberg\", \"Literary\", \"Archive\", \"Foundation.\", \"You\", \"provide\", \"a\", \"full\", \"refund\", \"of\", \"any\", \"money\", \"paid\", \"by\", \"a\", \"user\", \"who\", \"notifies\", \"you\", \"in\", \"writing\", \"within\", \"30\", \"days\", \"of\", \"receipt\", \"that\", \"s\", \"he\", \"does\", \"not\", \"agree\", \"to\", \"the\", \"terms\", \"of\", \"the\", \"full\", \"Project\", \"Gutenberg\", \"tm\", \"License.\", \"You\", \"must\", \"require\", \"such\", \"a\", \"user\", \"to\", \"return\", \"or\", \"destroy\", \"all\", \"copies\", \"of\", \"the\", \"works\", \"possessed\", \"in\", \"a\", \"physical\", \"medium\", \"and\", \"discontinue\", \"all\", \"use\", \"of\", \"and\", \"all\", \"access\", \"to\", \"other\", \"copies\", \"of\", \"Project\", \"Gutenberg\", \"tm\", \"works.\", \"You\", \"provide,\", \"in\", \"accordance\", \"with\", \"paragraph\", \"1.F.3,\", \"a\", \"full\", \"refund\", \"of\", \"any\", \"money\", \"paid\", \"for\", \"a\", \"work\", \"or\", \"a\", \"replacement\", \"copy,\", \"if\", \"a\", \"defect\", \"in\", \"the\", \"electronic\", \"work\", \"is\", \"discovered\", \"and\", \"reported\", \"to\", \"you\", \"within\", \"90\", \"days\", \"of\", \"receipt\", \"of\", \"the\", \"work.\", \"You\", \"comply\", \"with\", \"all\", \"other\", \"terms\", \"of\", \"this\", \"agreement\", \"for\", \"free\", \"distribution\", \"of\", \"Project\", \"Gutenberg\", \"tm\", \"works.1.E.9.\", \"If\", \"you\", \"wish\", \"to\", \"charge\", \"a\", \"fee\", \"or\", \"distribute\", \"a\", \"Project\", \"Gutenberg\", \"tmelectronic\", \"work\", \"or\", \"group\", \"of\", \"works\", \"on\", \"different\", \"terms\", \"than\", \"are\", \"setforth\", \"in\", \"this\", \"agreement,\", \"you\", \"must\", \"obtain\", \"permission\", \"in\", \"writing\", \"fromboth\", \"the\", \"Project\", \"Gutenberg\", \"Literary\", \"Archive\", \"Foundation\", \"and\", \"MichaelHart,\", \"the\", \"owner\", \"of\", \"the\", \"Project\", \"Gutenberg\", \"tm\", \"trademark.\", \"Contact\", \"theFoundation\", \"as\", \"set\", \"forth\", \"in\", \"Section\", \"3\", \"below.1.F.1.F.1.\", \"Project\", \"Gutenberg\", \"volunteers\", \"and\", \"employees\", \"expend\", \"considerableeffort\", \"to\", \"identify,\", \"do\", \"copyright\", \"research\", \"on,\", \"transcribe\", \"and\", \"proofreadpublic\", \"domain\", \"works\", \"in\", \"creating\", \"the\", \"Project\", \"Gutenberg\", \"tmcollection.\", \"Despite\", \"these\", \"efforts,\", \"Project\", \"Gutenberg\", \"tm\", \"electronicworks,\", \"and\", \"the\", \"medium\", \"on\", \"which\", \"they\", \"may\", \"be\", \"stored,\", \"may\", \"contain\", \"Defects,\", \"such\", \"as,\", \"but\", \"not\", \"limited\", \"to,\", \"incomplete,\", \"inaccurate\", \"orcorrupt\", \"data,\", \"transcription\", \"errors,\", \"a\", \"copyright\", \"or\", \"other\", \"intellectualproperty\", \"infringement,\", \"a\", \"defective\", \"or\", \"damaged\", \"disk\", \"or\", \"other\", \"medium,\", \"acomputer\", \"virus,\", \"or\", \"computer\", \"codes\", \"that\", \"damage\", \"or\", \"cannot\", \"be\", \"read\", \"byyour\", \"equipment.1.F.2.\", \"LIMITED\", \"WARRANTY,\", \"DISCLAIMER\", \"OF\", \"DAMAGES\", \"Except\", \"for\", \"the\", \"Rightof\", \"Replacement\", \"or\", \"Refund\", \"described\", \"in\", \"paragraph\", \"1.F.3,\", \"the\", \"ProjectGutenberg\", \"Literary\", \"Archive\", \"Foundation,\", \"the\", \"owner\", \"of\", \"the\", \"ProjectGutenberg\", \"tm\", \"trademark,\", \"and\", \"any\", \"other\", \"party\", \"distributing\", \"a\", \"ProjectGutenberg\", \"tm\", \"electronic\", \"work\", \"under\", \"this\", \"agreement,\", \"disclaim\", \"allliability\", \"to\", \"you\", \"for\", \"damages,\", \"costs\", \"and\", \"expenses,\", \"including\", \"legalfees.\", \"YOU\", \"AGREE\", \"THAT\", \"YOU\", \"HAVE\", \"NO\", \"REMEDIES\", \"FOR\", \"NEGLIGENCE,\", \"STRICTLIABILITY,\", \"BREACH\", \"OF\", \"WARRANTY\", \"OR\", \"BREACH\", \"OF\", \"CONTRACT\", \"EXCEPT\", \"THOSEPROVIDED\", \"IN\", \"PARAGRAPH\", \"F3.\", \"YOU\", \"AGREE\", \"THAT\", \"THE\", \"FOUNDATION,\", \"THETRADEMARK\", \"OWNER,\", \"AND\", \"ANY\", \"DISTRIBUTOR\", \"UNDER\", \"THIS\", \"AGREEMENT\", \"WILL\", \"NOT\", \"BELIABLE\", \"TO\", \"YOU\", \"FOR\", \"ACTUAL,\", \"DIRECT,\", \"INDIRECT,\", \"CONSEQUENTIAL,\", \"PUNITIVE\", \"ORINCIDENTAL\", \"DAMAGES\", \"EVEN\", \"IF\", \"YOU\", \"GIVE\", \"NOTICE\", \"OF\", \"THE\", \"POSSIBILITY\", \"OF\", \"SUCHDAMAGE.1.F.3.\", \"LIMITED\", \"RIGHT\", \"OF\", \"REPLACEMENT\", \"OR\", \"REFUND\", \"If\", \"you\", \"discover\", \"adefect\", \"in\", \"this\", \"electronic\", \"work\", \"within\", \"90\", \"days\", \"of\", \"receiving\", \"it,\", \"you\", \"canreceive\", \"a\", \"refund\", \"of\", \"the\", \"money\", \"you\", \"paid\", \"for\", \"it\", \"by\", \"sending\", \"awritten\", \"explanation\", \"to\", \"the\", \"person\", \"you\", \"received\", \"the\", \"work\", \"from.\", \"If\", \"youreceived\", \"the\", \"work\", \"on\", \"a\", \"physical\", \"medium,\", \"you\", \"must\", \"return\", \"the\", \"medium\", \"withyour\", \"written\", \"explanation.\", \"The\", \"person\", \"or\", \"entity\", \"that\", \"provided\", \"you\", \"withthe\", \"defective\", \"work\", \"may\", \"elect\", \"to\", \"provide\", \"a\", \"replacement\", \"copy\", \"in\", \"lieu\", \"of\", \"arefund.\", \"If\", \"you\", \"received\", \"the\", \"work\", \"electronically,\", \"the\", \"person\", \"or\", \"entityproviding\", \"it\", \"to\", \"you\", \"may\", \"choose\", \"to\", \"give\", \"you\", \"a\", \"second\", \"opportunity\", \"toreceive\", \"the\", \"work\", \"electronically\", \"in\", \"lieu\", \"of\", \"a\", \"refund.\", \"If\", \"the\", \"second\", \"copyis\", \"also\", \"defective,\", \"you\", \"may\", \"demand\", \"a\", \"refund\", \"in\", \"writing\", \"without\", \"furtheropportunities\", \"to\", \"fix\", \"the\", \"problem.1.F.4.\", \"Except\", \"for\", \"the\", \"limited\", \"right\", \"of\", \"replacement\", \"or\", \"refund\", \"set\", \"forthin\", \"paragraph\", \"1.F.3,\", \"this\", \"work\", \"is\", \"provided\", \"to\", \"you\", \"AS\", \"IS\", \"WITH\", \"NO\", \"OTHERWARRANTIES\", \"OF\", \"ANY\", \"KIND,\", \"EXPRESS\", \"OR\", \"IMPLIED,\", \"INCLUDING\", \"BUT\", \"NOT\", \"LIMITED\", \"TOWARRANTIES\", \"OF\", \"MERCHANTIBILITY\", \"OR\", \"FITNESS\", \"FOR\", \"ANY\", \"PURPOSE.1.F.5.\", \"Some\", \"states\", \"do\", \"not\", \"allow\", \"disclaimers\", \"of\", \"certain\", \"impliedwarranties\", \"or\", \"the\", \"exclusion\", \"or\", \"limitation\", \"of\", \"certain\", \"types\", \"of\", \"damages.If\", \"any\", \"disclaimer\", \"or\", \"limitation\", \"set\", \"forth\", \"in\", \"this\", \"agreement\", \"violates\", \"thelaw\", \"of\", \"the\", \"state\", \"applicable\", \"to\", \"this\", \"agreement,\", \"the\", \"agreement\", \"shall\", \"beinterpreted\", \"to\", \"make\", \"the\", \"maximum\", \"disclaimer\", \"or\", \"limitation\", \"permitted\", \"bythe\", \"applicable\", \"state\", \"law.\", \"The\", \"invalidity\", \"or\", \"unenforceability\", \"of\", \"anyprovision\", \"of\", \"this\", \"agreement\", \"shall\", \"not\", \"void\", \"the\", \"remaining\", \"provisions.1.F.6.\", \"INDEMNITY\", \"You\", \"agree\", \"to\", \"indemnify\", \"and\", \"hold\", \"the\", \"Foundation,\", \"thetrademark\", \"owner,\", \"any\", \"agent\", \"or\", \"employee\", \"of\", \"the\", \"Foundation,\", \"anyoneproviding\", \"copies\", \"of\", \"Project\", \"Gutenberg\", \"tm\", \"electronic\", \"works\", \"in\", \"accordancewith\", \"this\", \"agreement,\", \"and\", \"any\", \"volunteers\", \"associated\", \"with\", \"the\", \"production,promotion\", \"and\", \"distribution\", \"of\", \"Project\", \"Gutenberg\", \"tm\", \"electronic\", \"works,harmless\", \"from\", \"all\", \"liability,\", \"costs\", \"and\", \"expenses,\", \"including\", \"legal\", \"fees,that\", \"arise\", \"directly\", \"or\", \"indirectly\", \"from\", \"any\", \"of\", \"the\", \"following\", \"which\", \"you\", \"door\", \"cause\", \"to\", \"occur\", \"distribution\", \"of\", \"this\", \"or\", \"any\", \"Project\", \"Gutenberg\", \"tmwork,\", \"alteration,\", \"modification,\", \"or\", \"additions\", \"or\", \"deletions\", \"to\", \"anyProject\", \"Gutenberg\", \"tm\", \"work,\", \"and\", \"any\", \"Defect\", \"you\", \"cause.Section\", \"2.\", \"Information\", \"about\", \"the\", \"Mission\", \"of\", \"Project\", \"Gutenberg\", \"tmProject\", \"Gutenberg\", \"tm\", \"is\", \"synonymous\", \"with\", \"the\", \"free\", \"distribution\", \"ofelectronic\", \"works\", \"in\", \"formats\", \"readable\", \"by\", \"the\", \"widest\", \"variety\", \"of\", \"computersincluding\", \"obsolete,\", \"old,\", \"middle\", \"aged\", \"and\", \"new\", \"computers.\", \"It\", \"existsbecause\", \"of\", \"the\", \"efforts\", \"of\", \"hundreds\", \"of\", \"volunteers\", \"and\", \"donations\", \"frompeople\", \"in\", \"all\", \"walks\", \"of\", \"life.Volunteers\", \"and\", \"financial\", \"support\", \"to\", \"provide\", \"volunteers\", \"with\", \"theassistance\", \"they\", \"need,\", \"is\", \"critical\", \"to\", \"reaching\", \"Project\", \"Gutenberg\", \"tm\", \"sgoals\", \"and\", \"ensuring\", \"that\", \"the\", \"Project\", \"Gutenberg\", \"tm\", \"collection\", \"willremain\", \"freely\", \"available\", \"for\", \"generations\", \"to\", \"come.\", \"In\", \"2001,\", \"the\", \"ProjectGutenberg\", \"Literary\", \"Archive\", \"Foundation\", \"was\", \"created\", \"to\", \"provide\", \"a\", \"secureand\", \"permanent\", \"future\", \"for\", \"Project\", \"Gutenberg\", \"tm\", \"and\", \"future\", \"generations.To\", \"learn\", \"more\", \"about\", \"the\", \"Project\", \"Gutenberg\", \"Literary\", \"Archive\", \"Foundationand\", \"how\", \"your\", \"efforts\", \"and\", \"donations\", \"can\", \"help,\", \"see\", \"Sections\", \"3\", \"and\", \"4and\", \"the\", \"Foundation\", \"web\", \"page\", \"at\", \"http\", \"www.pglaf.org.Section\", \"3.\", \"Information\", \"about\", \"the\", \"Project\", \"Gutenberg\", \"Literary\", \"ArchiveFoundationThe\", \"Project\", \"Gutenberg\", \"Literary\", \"Archive\", \"Foundation\", \"is\", \"a\", \"non\", \"profit501\", \"educational\", \"corporation\", \"organized\", \"under\", \"the\", \"laws\", \"of\", \"thestate\", \"of\", \"Mississippi\", \"and\", \"granted\", \"tax\", \"exempt\", \"status\", \"by\", \"the\", \"InternalRevenue\", \"Service.\", \"The\", \"Foundation\", \"s\", \"EIN\", \"or\", \"federal\", \"tax\", \"identificationnumber\", \"is\", \"64\", \"6221541.\", \"Its\", \"501\", \"letter\", \"is\", \"posted\", \"athttp\", \"pglaf.org\", \"fundraising.\", \"Contributions\", \"to\", \"the\", \"Project\", \"GutenbergLiterary\", \"Archive\", \"Foundation\", \"are\", \"tax\", \"deductible\", \"to\", \"the\", \"full\", \"extentpermitted\", \"by\", \"U.S.\", \"federal\", \"laws\", \"and\", \"your\", \"state\", \"s\", \"laws.The\", \"Foundation\", \"s\", \"principal\", \"office\", \"is\", \"located\", \"at\", \"4557\", \"Melan\", \"Dr.\", \"S.Fairbanks,\", \"AK,\", \"99712.,\", \"but\", \"its\", \"volunteers\", \"and\", \"employees\", \"are\", \"scatteredthroughout\", \"numerous\", \"locations.\", \"Its\", \"business\", \"office\", \"is\", \"located\", \"at809\", \"North\", \"1500\", \"West,\", \"Salt\", \"Lake\", \"City,\", \"UT\", \"84116,\", \"596\", \"1887,\", \"emailbusiness\", \"pglaf.org.\", \"Email\", \"contact\", \"links\", \"and\", \"up\", \"to\", \"date\", \"contactinformation\", \"can\", \"be\", \"found\", \"at\", \"the\", \"Foundation\", \"s\", \"web\", \"site\", \"and\", \"officialpage\", \"at\", \"http\", \"pglaf.orgFor\", \"additional\", \"contact\", \"information\", \"Dr.\", \"Gregory\", \"B.\", \"Newby\", \"Chief\", \"Executive\", \"and\", \"Director\", \"gbnewby\", \"pglaf.orgSection\", \"4.\", \"Information\", \"about\", \"Donations\", \"to\", \"the\", \"Project\", \"GutenbergLiterary\", \"Archive\", \"FoundationProject\", \"Gutenberg\", \"tm\", \"depends\", \"upon\", \"and\", \"cannot\", \"survive\", \"without\", \"widespread\", \"public\", \"support\", \"and\", \"donations\", \"to\", \"carry\", \"out\", \"its\", \"mission\", \"ofincreasing\", \"the\", \"number\", \"of\", \"public\", \"domain\", \"and\", \"licensed\", \"works\", \"that\", \"can\", \"befreely\", \"distributed\", \"in\", \"machine\", \"readable\", \"form\", \"accessible\", \"by\", \"the\", \"widestarray\", \"of\", \"equipment\", \"including\", \"outdated\", \"equipment.\", \"Many\", \"small\", \"donations\", \"are\", \"particularly\", \"important\", \"to\", \"maintaining\", \"tax\", \"exemptstatus\", \"with\", \"the\", \"IRS.The\", \"Foundation\", \"is\", \"committed\", \"to\", \"complying\", \"with\", \"the\", \"laws\", \"regulatingcharities\", \"and\", \"charitable\", \"donations\", \"in\", \"all\", \"50\", \"states\", \"of\", \"the\", \"UnitedStates.\", \"Compliance\", \"requirements\", \"are\", \"not\", \"uniform\", \"and\", \"it\", \"takes\", \"aconsiderable\", \"effort,\", \"much\", \"paperwork\", \"and\", \"many\", \"fees\", \"to\", \"meet\", \"and\", \"keep\", \"upwith\", \"these\", \"requirements.\", \"We\", \"do\", \"not\", \"solicit\", \"donations\", \"in\", \"locationswhere\", \"we\", \"have\", \"not\", \"received\", \"written\", \"confirmation\", \"of\", \"compliance.\", \"ToSEND\", \"DONATIONS\", \"or\", \"determine\", \"the\", \"status\", \"of\", \"compliance\", \"for\", \"anyparticular\", \"state\", \"visit\", \"http\", \"pglaf.orgWhile\", \"we\", \"cannot\", \"and\", \"do\", \"not\", \"solicit\", \"contributions\", \"from\", \"states\", \"where\", \"wehave\", \"not\", \"met\", \"the\", \"solicitation\", \"requirements,\", \"we\", \"know\", \"of\", \"no\", \"prohibitionagainst\", \"accepting\", \"unsolicited\", \"donations\", \"from\", \"donors\", \"in\", \"such\", \"states\", \"whoapproach\", \"us\", \"with\", \"offers\", \"to\", \"donate.International\", \"donations\", \"are\", \"gratefully\", \"accepted,\", \"but\", \"we\", \"cannot\", \"makeany\", \"statements\", \"concerning\", \"tax\", \"treatment\", \"of\", \"donations\", \"received\", \"fromoutside\", \"the\", \"United\", \"States.\", \"U.S.\", \"laws\", \"alone\", \"swamp\", \"our\", \"small\", \"staff.Please\", \"check\", \"the\", \"Project\", \"Gutenberg\", \"Web\", \"pages\", \"for\", \"current\", \"donationmethods\", \"and\", \"addresses.\", \"Donations\", \"are\", \"accepted\", \"in\", \"a\", \"number\", \"of\", \"otherways\", \"including\", \"checks,\", \"online\", \"payments\", \"and\", \"credit\", \"card\", \"donations.To\", \"donate,\", \"please\", \"visit\", \"http\", \"pglaf.org\", \"donateSection\", \"5.\", \"General\", \"Information\", \"About\", \"Project\", \"Gutenberg\", \"tm\", \"electronicworks.Professor\", \"Michael\", \"S.\", \"Hart\", \"is\", \"the\", \"originator\", \"of\", \"the\", \"Project\", \"Gutenberg\", \"tmconcept\", \"of\", \"a\", \"library\", \"of\", \"electronic\", \"works\", \"that\", \"could\", \"be\", \"freely\", \"sharedwith\", \"anyone.\", \"For\", \"thirty\", \"years,\", \"he\", \"produced\", \"and\", \"distributed\", \"ProjectGutenberg\", \"tm\", \"eBooks\", \"with\", \"only\", \"a\", \"loose\", \"network\", \"of\", \"volunteer\", \"support.Project\", \"Gutenberg\", \"tm\", \"eBooks\", \"are\", \"often\", \"created\", \"from\", \"several\", \"printededitions,\", \"all\", \"of\", \"which\", \"are\", \"confirmed\", \"as\", \"Public\", \"Domain\", \"in\", \"the\", \"U.S.unless\", \"a\", \"copyright\", \"notice\", \"is\", \"included.\", \"Thus,\", \"we\", \"do\", \"not\", \"necessarilykeep\", \"eBooks\", \"in\", \"compliance\", \"with\", \"any\", \"particular\", \"paper\", \"edition.Most\", \"people\", \"start\", \"at\", \"our\", \"Web\", \"site\", \"which\", \"has\", \"the\", \"main\", \"PG\", \"search\", \"facility\", \"http\", \"www.gutenberg.orgThis\", \"Web\", \"site\", \"includes\", \"information\", \"about\", \"Project\", \"Gutenberg\", \"tm,including\", \"how\", \"to\", \"make\", \"donations\", \"to\", \"the\", \"Project\", \"Gutenberg\", \"LiteraryArchive\", \"Foundation,\", \"how\", \"to\", \"help\", \"produce\", \"our\", \"new\", \"eBooks,\", \"and\", \"how\", \"tosubscribe\", \"to\", \"our\", \"email\", \"newsletter\", \"to\", \"hear\", \"about\", \"new\", \"eBooks.\"'"
      ]
     },
     "execution_count": 9,
     "metadata": {},
     "output_type": "execute_result"
    }
   ],
   "source": [
    "text_clean"
   ]
  },
  {
   "cell_type": "code",
   "execution_count": 10,
   "metadata": {
    "scrolled": true
   },
   "outputs": [
    {
     "ename": "TypeError",
     "evalue": "'int' object is not callable",
     "output_type": "error",
     "traceback": [
      "\u001b[1;31m---------------------------------------------------------------------------\u001b[0m",
      "\u001b[1;31mTypeError\u001b[0m                                 Traceback (most recent call last)",
      "\u001b[1;32m<ipython-input-10-303e227e062a>\u001b[0m in \u001b[0;36m<module>\u001b[1;34m()\u001b[0m\n\u001b[0;32m      1\u001b[0m \u001b[0mvectorizer\u001b[0m \u001b[1;33m=\u001b[0m \u001b[0mTfidfVectorizer\u001b[0m\u001b[1;33m(\u001b[0m\u001b[0mstop_words\u001b[0m\u001b[1;33m=\u001b[0m\u001b[1;34m'english'\u001b[0m\u001b[1;33m)\u001b[0m\u001b[1;33m\u001b[0m\u001b[0m\n\u001b[1;32m----> 2\u001b[1;33m \u001b[0mX\u001b[0m \u001b[1;33m=\u001b[0m \u001b[0mvectorizer\u001b[0m\u001b[1;33m.\u001b[0m\u001b[0mfit_transform\u001b[0m\u001b[1;33m(\u001b[0m\u001b[0msentences\u001b[0m\u001b[1;33m[\u001b[0m\u001b[1;36m0\u001b[0m\u001b[1;33m]\u001b[0m\u001b[1;33m)\u001b[0m\u001b[1;33m\u001b[0m\u001b[0m\n\u001b[0m",
      "\u001b[1;32mc:\\program files\\python37\\lib\\site-packages\\sklearn\\feature_extraction\\text.py\u001b[0m in \u001b[0;36mfit_transform\u001b[1;34m(self, raw_documents, y)\u001b[0m\n\u001b[0;32m   1581\u001b[0m         \"\"\"\n\u001b[0;32m   1582\u001b[0m         \u001b[0mself\u001b[0m\u001b[1;33m.\u001b[0m\u001b[0m_check_params\u001b[0m\u001b[1;33m(\u001b[0m\u001b[1;33m)\u001b[0m\u001b[1;33m\u001b[0m\u001b[0m\n\u001b[1;32m-> 1583\u001b[1;33m         \u001b[0mX\u001b[0m \u001b[1;33m=\u001b[0m \u001b[0msuper\u001b[0m\u001b[1;33m(\u001b[0m\u001b[0mTfidfVectorizer\u001b[0m\u001b[1;33m,\u001b[0m \u001b[0mself\u001b[0m\u001b[1;33m)\u001b[0m\u001b[1;33m.\u001b[0m\u001b[0mfit_transform\u001b[0m\u001b[1;33m(\u001b[0m\u001b[0mraw_documents\u001b[0m\u001b[1;33m)\u001b[0m\u001b[1;33m\u001b[0m\u001b[0m\n\u001b[0m\u001b[0;32m   1584\u001b[0m         \u001b[0mself\u001b[0m\u001b[1;33m.\u001b[0m\u001b[0m_tfidf\u001b[0m\u001b[1;33m.\u001b[0m\u001b[0mfit\u001b[0m\u001b[1;33m(\u001b[0m\u001b[0mX\u001b[0m\u001b[1;33m)\u001b[0m\u001b[1;33m\u001b[0m\u001b[0m\n\u001b[0;32m   1585\u001b[0m         \u001b[1;31m# X is already a transformed view of raw_documents so\u001b[0m\u001b[1;33m\u001b[0m\u001b[1;33m\u001b[0m\u001b[0m\n",
      "\u001b[1;32mc:\\program files\\python37\\lib\\site-packages\\sklearn\\feature_extraction\\text.py\u001b[0m in \u001b[0;36mfit_transform\u001b[1;34m(self, raw_documents, y)\u001b[0m\n\u001b[0;32m   1010\u001b[0m \u001b[1;33m\u001b[0m\u001b[0m\n\u001b[0;32m   1011\u001b[0m         vocabulary, X = self._count_vocab(raw_documents,\n\u001b[1;32m-> 1012\u001b[1;33m                                           self.fixed_vocabulary_)\n\u001b[0m\u001b[0;32m   1013\u001b[0m \u001b[1;33m\u001b[0m\u001b[0m\n\u001b[0;32m   1014\u001b[0m         \u001b[1;32mif\u001b[0m \u001b[0mself\u001b[0m\u001b[1;33m.\u001b[0m\u001b[0mbinary\u001b[0m\u001b[1;33m:\u001b[0m\u001b[1;33m\u001b[0m\u001b[0m\n",
      "\u001b[1;32mc:\\program files\\python37\\lib\\site-packages\\sklearn\\feature_extraction\\text.py\u001b[0m in \u001b[0;36m_count_vocab\u001b[1;34m(self, raw_documents, fixed_vocab)\u001b[0m\n\u001b[0;32m    920\u001b[0m         \u001b[1;32mfor\u001b[0m \u001b[0mdoc\u001b[0m \u001b[1;32min\u001b[0m \u001b[0mraw_documents\u001b[0m\u001b[1;33m:\u001b[0m\u001b[1;33m\u001b[0m\u001b[0m\n\u001b[0;32m    921\u001b[0m             \u001b[0mfeature_counter\u001b[0m \u001b[1;33m=\u001b[0m \u001b[1;33m{\u001b[0m\u001b[1;33m}\u001b[0m\u001b[1;33m\u001b[0m\u001b[0m\n\u001b[1;32m--> 922\u001b[1;33m             \u001b[1;32mfor\u001b[0m \u001b[0mfeature\u001b[0m \u001b[1;32min\u001b[0m \u001b[0manalyze\u001b[0m\u001b[1;33m(\u001b[0m\u001b[0mdoc\u001b[0m\u001b[1;33m)\u001b[0m\u001b[1;33m:\u001b[0m\u001b[1;33m\u001b[0m\u001b[0m\n\u001b[0m\u001b[0;32m    923\u001b[0m                 \u001b[1;32mtry\u001b[0m\u001b[1;33m:\u001b[0m\u001b[1;33m\u001b[0m\u001b[0m\n\u001b[0;32m    924\u001b[0m                     \u001b[0mfeature_idx\u001b[0m \u001b[1;33m=\u001b[0m \u001b[0mvocabulary\u001b[0m\u001b[1;33m[\u001b[0m\u001b[0mfeature\u001b[0m\u001b[1;33m]\u001b[0m\u001b[1;33m\u001b[0m\u001b[0m\n",
      "\u001b[1;32mc:\\program files\\python37\\lib\\site-packages\\sklearn\\feature_extraction\\text.py\u001b[0m in \u001b[0;36m<lambda>\u001b[1;34m(doc)\u001b[0m\n\u001b[0;32m    306\u001b[0m                                                tokenize)\n\u001b[0;32m    307\u001b[0m             return lambda doc: self._word_ngrams(\n\u001b[1;32m--> 308\u001b[1;33m                 tokenize(preprocess(self.decode(doc))), stop_words)\n\u001b[0m\u001b[0;32m    309\u001b[0m \u001b[1;33m\u001b[0m\u001b[0m\n\u001b[0;32m    310\u001b[0m         \u001b[1;32melse\u001b[0m\u001b[1;33m:\u001b[0m\u001b[1;33m\u001b[0m\u001b[0m\n",
      "\u001b[1;32mc:\\program files\\python37\\lib\\site-packages\\sklearn\\feature_extraction\\text.py\u001b[0m in \u001b[0;36m<lambda>\u001b[1;34m(x)\u001b[0m\n\u001b[0;32m    254\u001b[0m \u001b[1;33m\u001b[0m\u001b[0m\n\u001b[0;32m    255\u001b[0m         \u001b[1;32mif\u001b[0m \u001b[0mself\u001b[0m\u001b[1;33m.\u001b[0m\u001b[0mlowercase\u001b[0m\u001b[1;33m:\u001b[0m\u001b[1;33m\u001b[0m\u001b[0m\n\u001b[1;32m--> 256\u001b[1;33m             \u001b[1;32mreturn\u001b[0m \u001b[1;32mlambda\u001b[0m \u001b[0mx\u001b[0m\u001b[1;33m:\u001b[0m \u001b[0mstrip_accents\u001b[0m\u001b[1;33m(\u001b[0m\u001b[0mx\u001b[0m\u001b[1;33m.\u001b[0m\u001b[0mlower\u001b[0m\u001b[1;33m(\u001b[0m\u001b[1;33m)\u001b[0m\u001b[1;33m)\u001b[0m\u001b[1;33m\u001b[0m\u001b[0m\n\u001b[0m\u001b[0;32m    257\u001b[0m         \u001b[1;32melse\u001b[0m\u001b[1;33m:\u001b[0m\u001b[1;33m\u001b[0m\u001b[0m\n\u001b[0;32m    258\u001b[0m             \u001b[1;32mreturn\u001b[0m \u001b[0mstrip_accents\u001b[0m\u001b[1;33m\u001b[0m\u001b[0m\n",
      "\u001b[1;31mTypeError\u001b[0m: 'int' object is not callable"
     ]
    }
   ],
   "source": [
    "vectorizer = TfidfVectorizer(stop_words='english')\n",
    "X = vectorizer.fit_transform(sentences[0])"
   ]
  },
  {
   "cell_type": "code",
   "execution_count": null,
   "metadata": {},
   "outputs": [],
   "source": [
    "x"
   ]
  },
  {
   "cell_type": "code",
   "execution_count": null,
   "metadata": {},
   "outputs": [],
   "source": [
    "from sklearn.model_selection import train_test_split\n",
    "x_train, x_test, y_train, y_test = train_test_split(x, \n",
    "                                                    y,\n",
    "                                                    test_size=0.25,\n",
    "                                                    random_state=0)"
   ]
  },
  {
   "cell_type": "code",
   "execution_count": null,
   "metadata": {},
   "outputs": [],
   "source": [
    "import pandas as pd"
   ]
  },
  {
   "cell_type": "code",
   "execution_count": null,
   "metadata": {
    "scrolled": true
   },
   "outputs": [],
   "source": [
    "documents = 'This little kitty came to play when I was eating at a restaurant.,\n",
    "            Merley has the best squooshy kitten belly.'"
   ]
  },
  {
   "cell_type": "code",
   "execution_count": null,
   "metadata": {},
   "outputs": [],
   "source": [
    "documents = [\"This little kitty came to play when I was eating at a restaurant.\",\n",
    "             \"Merley has the best squooshy kitten belly.\"]"
   ]
  },
  {
   "cell_type": "code",
   "execution_count": null,
   "metadata": {},
   "outputs": [],
   "source": []
  },
  {
   "cell_type": "code",
   "execution_count": null,
   "metadata": {},
   "outputs": [],
   "source": []
  }
 ],
 "metadata": {
  "kernelspec": {
   "display_name": "Python 3",
   "language": "python",
   "name": "python3"
  },
  "language_info": {
   "codemirror_mode": {
    "name": "ipython",
    "version": 3
   },
   "file_extension": ".py",
   "mimetype": "text/x-python",
   "name": "python",
   "nbconvert_exporter": "python",
   "pygments_lexer": "ipython3",
   "version": "3.7.0"
  }
 },
 "nbformat": 4,
 "nbformat_minor": 2
}
