{
 "cells": [
  {
   "cell_type": "markdown",
   "metadata": {},
   "source": [
    "For this project you'll dig into a large amount of text and apply most of what you've covered in this unit and in the course so far.\n",
    "\n",
    "First, pick a set of texts. This can be either a series of novels, chapters, or articles. Anything you'd like. It just has to have multiple entries of varying characteristics. At least 100 should be good. There should also be at least 10 different authors, but try to keep the texts related (either all on the same topic of from the same branch of literature - something to make classification a bit more difficult than obviously different subjects).\n",
    "\n",
    "This capstone can be an extension of your NLP challenge if you wish to use the same corpus. If you found problems with that data set that limited your analysis, however, it may be worth using what you learned to choose a new corpus. Reserve 25% of your corpus as a test set.\n",
    "\n",
    "The first technique is to create a series of clusters. Try several techniques and pick the one you think best represents your data. Make sure there is a narrative and reasoning around why you have chosen the given clusters. Are authors consistently grouped into the same cluster?\n",
    "\n",
    "Next, perform some unsupervised feature generation and selection using the techniques covered in this unit and elsewhere in the course. Using those features then build models to attempt to classify your texts by author. Try different permutations of unsupervised and supervised techniques to see which combinations have the best performance.\n",
    "\n",
    "Lastly return to your holdout group. Does your clustering on those members perform as you'd expect? Have your clusters remained stable or changed dramatically? What about your model? Is it's performance consistent?\n",
    "\n",
    "If there is a divergence in the relative stability of your model and your clusters, delve into why.\n",
    "\n",
    "Your end result should be a write up of how clustering and modeling compare for classifying your texts. What are the advantages of each? Why would you want to use one over the other? Approximately 3-5 pages is a good length for your write up, and remember to include visuals to help tell your story!"
   ]
  },
  {
   "cell_type": "code",
   "execution_count": 1,
   "metadata": {},
   "outputs": [],
   "source": [
    "%matplotlib inline\n",
    "import numpy as np\n",
    "import pandas as pd\n",
    "import scipy\n",
    "import sklearn\n",
    "import matplotlib.pyplot as plt\n",
    "import seaborn as sns\n",
    "import re\n",
    "import nltk\n",
    "from nltk.corpus import stopwords\n",
    "\n",
    "from collections import Counter"
   ]
  },
  {
   "cell_type": "code",
   "execution_count": 2,
   "metadata": {},
   "outputs": [],
   "source": [
    "import warnings\n",
    "warnings.filterwarnings(\"ignore\")"
   ]
  },
  {
   "cell_type": "code",
   "execution_count": 3,
   "metadata": {},
   "outputs": [],
   "source": [
    "import spacy\n",
    "nlp = spacy.load('en')"
   ]
  },
  {
   "cell_type": "code",
   "execution_count": 4,
   "metadata": {},
   "outputs": [],
   "source": [
    "from sklearn.feature_extraction.text import TfidfVectorizer\n",
    "from sklearn.cluster import KMeans\n",
    "from sklearn.metrics import adjusted_rand_score"
   ]
  },
  {
   "cell_type": "markdown",
   "metadata": {},
   "source": [
    "## Load files"
   ]
  },
  {
   "cell_type": "code",
   "execution_count": 5,
   "metadata": {
    "scrolled": false
   },
   "outputs": [],
   "source": [
    "#filename=['brady.txt','butler.txt','cutting.txt','dawson.txt','dyke.txt',\n",
    "#          'hughes.txt','mitchell.txt','richmond.txt','rinehart.txt','stretton.txt']\n",
    "filename='brady.txt'"
   ]
  },
  {
   "cell_type": "code",
   "execution_count": 6,
   "metadata": {},
   "outputs": [
    {
     "data": {
      "text/plain": [
       "<function TextIOWrapper.close()>"
      ]
     },
     "execution_count": 6,
     "metadata": {},
     "output_type": "execute_result"
    }
   ],
   "source": [
    "file=open(filename,'r')\n",
    "text=file.read()\n",
    "file.close"
   ]
  },
  {
   "cell_type": "code",
   "execution_count": 7,
   "metadata": {
    "scrolled": false
   },
   "outputs": [],
   "source": [
    "stops=set(stopwords.words(\"english\"))\n",
    "def text_cleaner(text):\n",
    "    \n",
    "    text=text.replace('gutenberg','')\n",
    "    text=re.sub(r'ï»¿',' ',text)\n",
    "    text=re.sub(r'\\n',' ',text)\n",
    "    text=re.sub('\\[[^()]*\\]',' ',text)\n",
    "    text=re.sub('\\([^()]*\\)',' ',text)\n",
    "    text=re.sub('[^\\w\\.\\,]',' ',text)\n",
    "    text=re.sub(\"[^a-zA-Z]\",\" \",text)\n",
    "    text=text.lower()\n",
    "    \n",
    "    text=' '.join(text.split())\n",
    "    text=text.split()\n",
    "    text=[w for w in text if not w in stops]\n",
    "    text=' '.join(text)\n",
    "    \n",
    "    return text"
   ]
  },
  {
   "cell_type": "code",
   "execution_count": 8,
   "metadata": {},
   "outputs": [],
   "source": [
    "text=text_cleaner(text)"
   ]
  },
  {
   "cell_type": "code",
   "execution_count": 9,
   "metadata": {},
   "outputs": [
    {
     "data": {
      "text/plain": [
       "'project gutenberg ebook thus came cyrus townsend brady illustrated walter b everett ebook use anyone anywhere cost almost restrictions whatsoever may copy give away use terms project gutenberg license included ebook online www net title thus came author cyrus townsend brady release date january language english character set encoding iso us start project gutenberg ebook thus came e text prepared robert cicconetti melissa er raqabi project gutenberg online distributed proofreading team note project gutenberg also html version file includes original illustrations see h htm h zip thus came christmas fantasy cyrus townsend brady pictures walter b everett g p putnam sons new york london knickerbocker press beloved memory little betty contents baby ii child iii friend iv workman v comforter vi burden bearer vii thorn crowned viii broken hearted ix forgiver sins x giver life xi stiller storm illustrations said woman go time fell knees pressed face laid hand upon knob church door whispered priest sorrow greater mine absolvo te cry bread baby little child shall lead baby heavy perfume rare blossoms wild strains mad music patter flying feet murmur speech ring laughter filled great hall pair dancers peculiarly graceful particularly daring held center floor moment room rang applause alcoves screened flower decked couples wandered dancing space hands clasped bosoms rose fell hearts throbbed pulses beat moving bodies kept time rhythmic sound suddenly music stopped conversation ceased laughter died away almost poised air dancers stood amazed one looked another surprise something stole throughout room neither music lights fragrance life presence see child asked wildest dancers escort pointed looks like little boy see nothing said man still held clasp arm strangely dressed although see indistinctly vaguely whispered woman wears long white robe kind light face see looking us see nothing repeated man low tones heat light music disturbed let get want nothing interposed woman waving man aside drawing away arm see made step toward center room stopped put hand head gone exclaimed good said man instant room suddenly rang cries go music dance half extended arm woman dance finished yes said flying feet twinkled across polished floor everybody took long breath new start apparently unconscious pause saw see know going back home child good night yes music stopped suddenly man farthest alcove turned companion hidden group palms wonder queried woman deathly pale eyes dark fear yet alight passionate determination begins said man tenderly slip away car outside everything ready husband said woman yes said man trouble woman leaving said wonder turned suddenly great start somebody whispered staring back alcove nonsense said man throwing glance around recess nobody alone together shall hereafter taken step child whispered woman strange vesture wonderful face eyes look child dear urged man overwrought excited nervous music starts let us go stretched hand woman came nearer shrank back hand heart oh said faintly gone course gone answered soothingly time get away let said woman go right knew pleaded man besides yes eyes spoke touch said going back husband follow ii child suffer little children come unto ii child employees gone home carrying christmas checks hearty greetings great man whose beck nod followed sat private office absolutely alone serious matters consider want interruptions balance sheet year made according custom firm christmas instead new year day examined showed tremendous profit mills turning quantities material demand greater cost production less ever tell said man master stroke displace men children mills reduced cost four fifths war made prices go wealth riches beyond calculation picked letter read proposal superintendent clear land build buildings install machines employ children increase profits greatly said man crush opposition absolutely control markets world build fortune upon foundation great one comprehend stopped leaned back chair lifted eyes toward ceiling room saw beyond kingdoms world means unlimited make lord master gave thought foundations structure erected fancy long indulged dreams scarcely realized presently put hands arms chair started rise saying telegraph superintendent go ahead scarcely formulated words right front seated desk saw young lad regarding intently stopped petrified position assumed get asked answer come said man shrinking back imagine got people gone hold strict account room suddenly filled people came crowding walls every side pressed close people never seen wan worn stunted pinched starved joyless children meagerly clothed badly nourished ill developed quite silent cry protest argue plead laugh looked made sound sort children known many children never known many gathered together without smile laugh eye wandered around room close yet touch turned desk lad sat longer yet well remembered face knew exactly looked turned nearest child strange way although poor wretched face changed look suggested lad first visitor turned another another looked back way eyes threw head saw castle success dreamed looked foundation slowly hand went desk little crowding figures drew back give freedom movement stretched hand telegraph blank drew seized pen wrote rapidly build mills take children already operation put men places content less profit future read telegram telephone close hand called telegraph office dictated directed sent immediately engrossed task noticed nothing else looked room still filled children laughing soundless laugh yet heard room empty save child seen first vaguely time catch smile lips gone silently strangely appeared dream telegram hand sent called office telephone get message minute ago yes want recall man thought second said quietly vanished visitors let go merry christmas iii friend inasmuch ye done unto one least brethren iii friend story christ child true mommy quivered one little thin voice yes told us mission sunday school said littlest child believe answered mother god never done much christmas eve asked boy climbing thin knees threadbare woman nestling thin face thinner breast rags scarcely covered decently yes christmas eve day came urged oldest girl say believe mommy used believe girl believed father died believe repeated first child believe old enough understand last scuttle coal got ate last bit bread supper night say put little boy hang stockings santa claus fill em cause christ child believe sonny said mother desperately going hang mine see said littlest girl got many children look said woman care likes us afraid sunday school teacher said came poor people special awful poor born stable awful poor asked boy girl answered mother lived farm stable palace hole live better hang stockings none believe mommy would use hung em find anything em morning awful believe said littlest girl think god forgot us really going try tell tain use oh yes sure way said woman someone would fill stockings milk bread want turkey said oldest girl cranberry sauce added boy want doll baby mine said littlest girl mother hid face groaned aloud sick mommy guess come better say prayers go bed keep fire going hard covered take long three little youngsters divest rags clothing wore slept passed underclothes donning white gowns night stockings mommy said oldest handing three ragged almost footless black stockings woman use tell harm mommy urged girl believe asked mother girl shook head disappointed morning nothing em suppose santa claus busy nervous fingers woman hung three stockings near window hungry cold broken mother could scarcely keep crying maybe glad said littlest girl drowsily comin bed mommy asked oldest beneath covers mattress floor little forget say prayers said em months ever since father killed got poor say em night cause christmas eve yes night said mother go sleep waitin come mommy asked littlest girl sleepy yes said mother presently sat dark turned light deep breathing children told asleep rose quietly stepped window stood looking three shapeless tattered stockings high tenement moonlight came softly house roofs city bare cold cheerless room stared stockings tears streamed wasted cheeks hung low suggestion littlest girl children could easily get morning bread whispered body shattered water breaker fist suggestion moisture inside staves cask drew finger across touched woman lips water said hoarsely blood terror yearning disappeared woman eyes looked man sanely gratefully god bless faltered lips stiffened tag quaint old scripture impressed first heard strangeness never thought years rough life since boyhood came man mind lifted head see figure priest forever gasped order melchis finish word woman dead knew kept alive task performed bowed head hands entered life eternal others presently little cloud flecked sky south wind blew softly smooth sea rippled blue white gentle breeze little boat cradling dead rocked gently drifted xi stiller storm good cheer afraid xi stiller storm christmas eve home murmured young lad said prayers tumbled narrow berth great ship suppose trimming christmas tree hanging stockings wish young serve country young according standards mankind midshipman great steel monster keeping leaden deep first time ever away home christmas day youngsters laughed joked steerage mess promised kind celebration morning cot one see tears fondly deemed unmanly would come midnight watch knew must get sleep long time closed eyes drifted dream home mother athwart dream came sudden frightful heart stilling roar destruction hideous crash followed terrible rending breaking smashing concatenation noises succeeded frightful detonations gaping hole torn great battleship deadly torpedo water rushed upon heated boilers explosion turn ignited magazines deadly underwater thrust enemy battleship reduced moments disjointed disorganized sinking mass shapeless formless splintered steel explosions ceased every point rose shrieks groans cries men death agony hurled eternity torn like steel boy heard surviving officers coolly resolutely calling men stations thrown berth violence explosion face cut bleeding struck near stanchion left arm hung useless lain dazed deck moments heard orders lieutenant one signal midshipmen stationed signal bridge whatever happened place go still duty perform picking best could hurried report lieutenant means available signals made calls help oh never warnings enemy submarines near vicinity ships keep away captain half wrecked bridge boy noticed quiet yet voice rang tumult steady men steady keep stations stand ready old quartermaster whose business tell hours saluted captain eight bells sir said midnight christmas day added strike said captain clear ever four couplets rang chaos disaster christmas day boy murmured going men said captain cadences died away save abandon ship christmas morning said boy wonder home overboard youngster said signal lieutenant wish life preserver merry christmas sir said lad suddenly good god said man merry christmas think us home left ship gave mighty reel quick suck officer roared fairly flung boy water hurt broken arm swim strike good boy caught glimpse captain standing bridge wreck went wild waters closed head frightfully cold hard gale blowing waves ran terribly high left arm helpless head ached fiercely use still boy struck bravely free hand instinct life dark see sky covered drifting clouds little rift moonlight came christmas morning sobbed waves rolled oh god felt going waters seemed grow still suddenly calm longer cold threw head one last look sky life hung suspended strange way saw figure walking across smooth seas solid ground figure drew nearer wind seemed died away draperies shrouded swung gently would man walked along face saw dimly vaguely light somehow came slowly nearer christmas morning whispered boy hand figure reached caught boy right arm lifted home christmas morning whispered boy closing eyes moonlight broke cloud fell upon wave rolled sea empty hath eyes see let see end project gutenberg ebook thus came file named txt zip associated files various formats found http www org dirs updated editions replace previous one old editions renamed creating works public domain print editions means one owns united states copyright works foundation copy distribute united states without permission without paying copyright royalties special rules set forth general terms use part license apply copying distributing project gutenberg tm electronic works protect project gutenberg tm concept trademark project gutenberg registered trademark may used charge ebooks unless receive specific permission charge anything copies ebook complying rules easy may use ebook nearly purpose creation derivative works reports performances research may modified printed given away may practically anything public domain ebooks redistribution subject trademark license especially commercial redistribution start full license full project gutenberg license please read distribute use work protect project gutenberg tm mission promoting free distribution electronic works using distributing work agree comply terms full project gutenberg tm license section general terms use redistributing project gutenberg tm electronic works reading using part project gutenberg tm electronic work indicate read understand agree accept terms license intellectual property agreement agree abide terms agreement must cease using return destroy copies project gutenberg tm electronic works possession paid fee obtaining copy access project gutenberg tm electronic work agree bound terms agreement may obtain refund person entity paid fee set forth paragraph e b project gutenberg registered trademark may used associated way electronic work people agree bound terms agreement things project gutenberg tm electronic works even without complying full terms agreement see paragraph c lot things project gutenberg tm electronic works follow terms agreement help preserve free future access project gutenberg tm electronic works see paragraph e c project gutenberg literary archive foundation owns compilation copyright collection project gutenberg tm electronic works nearly individual works collection public domain united states individual work public domain united states located united states claim right prevent copying distributing performing displaying creating derivative works based work long references project gutenberg removed course hope support project gutenberg tm mission promoting free access electronic works freely sharing project gutenberg tm works compliance terms agreement keeping project gutenberg tm name associated work easily comply terms agreement keeping work format attached full project gutenberg tm license share without charge others copyright laws place located also govern work copyright laws countries constant state change outside united states check laws country addition terms agreement downloading copying displaying performing distributing creating derivative works based work project gutenberg tm work foundation makes representations concerning copyright status work country outside united states e unless removed references project gutenberg e following sentence active links immediate access full project gutenberg tm license must appear prominently whenever copy project gutenberg tm work accessed displayed performed viewed copied distributed ebook use anyone anywhere cost almost restrictions whatsoever may copy give away use terms project gutenberg license included ebook online www net e individual project gutenberg tm electronic work derived public domain work copied distributed anyone united states without paying fees charges redistributing providing access work phrase project gutenberg associated appearing work must comply either requirements paragraphs e e obtain permission use work project gutenberg tm trademark set forth paragraphs e e e individual project gutenberg tm electronic work posted permission copyright holder use distribution must comply paragraphs e e additional terms imposed copyright holder additional terms linked project gutenberg tm license works posted permission copyright holder found beginning work e unlink detach remove full project gutenberg tm license terms work files containing part work work associated project gutenberg tm e copy display perform distribute redistribute electronic work part electronic work without prominently displaying sentence set forth paragraph e active links immediate access full terms project gutenberg tm license e may convert distribute work binary compressed marked nonproprietary proprietary form including word processing hypertext form however provide access distribute copies project gutenberg tm work format plain vanilla ascii format used official version posted official project gutenberg tm web site must additional cost fee expense user provide copy means exporting copy means obtaining copy upon request work original plain vanilla ascii form alternate format must include full project gutenberg tm license specified paragraph e e charge fee access viewing displaying performing copying distributing project gutenberg tm works unless comply paragraph e e e may charge reasonable fee copies providing access distributing project gutenberg tm electronic works provided pay royalty fee gross profits derive use project gutenberg tm works calculated using method already use calculate applicable taxes fee owed owner project gutenberg tm trademark agreed donate royalties paragraph project gutenberg literary archive foundation royalty payments must paid within days following date prepare periodic tax returns royalty payments clearly marked sent project gutenberg literary archive foundation address specified section information donations project gutenberg literary archive foundation provide full refund money paid user notifies writing within days receipt agree terms full project gutenberg tm license must require user return destroy copies works possessed physical medium discontinue use access copies project gutenberg tm works provide accordance paragraph f full refund money paid work replacement copy defect electronic work discovered reported within days receipt work comply terms agreement free distribution project gutenberg tm works e wish charge fee distribute project gutenberg tm electronic work group works different terms set forth agreement must obtain permission writing project gutenberg literary archive foundation michael hart owner project gutenberg tm trademark contact foundation set forth section f f project gutenberg volunteers employees expend considerable effort identify copyright research transcribe proofread public domain works creating project gutenberg tm collection despite efforts project gutenberg tm electronic works medium may stored may contain defects limited incomplete inaccurate corrupt data transcription errors copyright intellectual property infringement defective damaged disk medium computer virus computer codes damage cannot read equipment f limited warranty disclaimer damages except right replacement refund described paragraph f project gutenberg literary archive foundation owner project gutenberg tm trademark party distributing project gutenberg tm electronic work agreement disclaim liability damages costs expenses including legal fees agree remedies negligence strict liability breach warranty breach contract except provided paragraph f agree foundation trademark owner distributor agreement liable actual direct indirect consequential punitive incidental damages even give notice possibility damage f limited right replacement refund discover defect electronic work within days receiving receive refund money paid sending written explanation person received work received work physical medium must return medium written explanation person entity provided defective work may elect provide replacement copy lieu refund received work electronically person entity providing may choose give second opportunity receive work electronically lieu refund second copy also defective may demand refund writing without opportunities fix problem f except limited right replacement refund set forth paragraph f work provided warranties kind express implied including limited warranties merchantibility fitness purpose f states allow disclaimers certain implied warranties exclusion limitation certain types damages disclaimer limitation set forth agreement violates law state applicable agreement agreement shall interpreted make maximum disclaimer limitation permitted applicable state law invalidity unenforceability provision agreement shall void remaining provisions f indemnity agree indemnify hold foundation trademark owner agent employee foundation anyone providing copies project gutenberg tm electronic works accordance agreement volunteers associated production promotion distribution project gutenberg tm electronic works harmless liability costs expenses including legal fees arise directly indirectly following cause occur distribution project gutenberg tm work alteration modification additions deletions project gutenberg tm work defect cause section information mission project gutenberg tm project gutenberg tm synonymous free distribution electronic works formats readable widest variety computers including obsolete old middle aged new computers exists efforts hundreds volunteers donations people walks life volunteers financial support provide volunteers assistance need critical reaching project gutenberg tm goals ensuring project gutenberg tm collection remain freely available generations come project gutenberg literary archive foundation created provide secure permanent future project gutenberg tm future generations learn project gutenberg literary archive foundation efforts donations help see sections foundation web page http www net fundraising pglaf section information project gutenberg literary archive foundation project gutenberg literary archive foundation non profit educational corporation organized laws state mississippi granted tax exempt status internal revenue service foundation ein federal tax identification number contributions project gutenberg literary archive foundation tax deductible full extent permitted u federal laws state laws foundation principal office located melan dr fairbanks ak volunteers employees scattered throughout numerous locations business office located north west salt lake city ut email business pglaf org email contact links date contact information found foundation web site official page http www net contact additional contact information dr gregory b newby chief executive director gbnewby pglaf org section information donations project gutenberg literary archive foundation project gutenberg tm depends upon cannot survive without wide spread public support donations carry mission increasing number public domain licensed works freely distributed machine readable form accessible widest array equipment including outdated equipment many small donations particularly important maintaining tax exempt status irs foundation committed complying laws regulating charities charitable donations states united states compliance requirements uniform takes considerable effort much paperwork many fees meet keep requirements solicit donations locations received written confirmation compliance send donations determine status compliance particular state visit http www net fundraising donate cannot solicit contributions states met solicitation requirements know prohibition accepting unsolicited donations donors states approach us offers donate international donations gratefully accepted cannot make statements concerning tax treatment donations received outside united states u laws alone swamp small staff please check project gutenberg web pages current donation methods addresses donations accepted number ways including including checks online payments credit card donations donate please visit http www net fundraising donate section general information project gutenberg tm electronic works professor michael hart originator project gutenberg tm concept library electronic works could freely shared anyone thirty years produced distributed project gutenberg tm ebooks loose network volunteer support project gutenberg tm ebooks often created several printed editions confirmed public domain u unless copyright notice included thus necessarily keep ebooks compliance particular paper edition people start web site main pg search facility http www net web site includes information project gutenberg tm including make donations project gutenberg literary archive foundation help produce new ebooks subscribe email newsletter hear new ebooks'"
      ]
     },
     "execution_count": 9,
     "metadata": {},
     "output_type": "execute_result"
    }
   ],
   "source": [
    "text"
   ]
  },
  {
   "cell_type": "code",
   "execution_count": 10,
   "metadata": {
    "scrolled": true
   },
   "outputs": [
    {
     "ename": "NameError",
     "evalue": "name 'x' is not defined",
     "output_type": "error",
     "traceback": [
      "\u001b[1;31m---------------------------------------------------------------------------\u001b[0m",
      "\u001b[1;31mNameError\u001b[0m                                 Traceback (most recent call last)",
      "\u001b[1;32m<ipython-input-10-6fcf9dfbd479>\u001b[0m in \u001b[0;36m<module>\u001b[1;34m\u001b[0m\n\u001b[1;32m----> 1\u001b[1;33m \u001b[0mx\u001b[0m\u001b[1;33m\u001b[0m\u001b[1;33m\u001b[0m\u001b[0m\n\u001b[0m",
      "\u001b[1;31mNameError\u001b[0m: name 'x' is not defined"
     ]
    }
   ],
   "source": [
    "x"
   ]
  },
  {
   "cell_type": "code",
   "execution_count": null,
   "metadata": {},
   "outputs": [],
   "source": []
  },
  {
   "cell_type": "code",
   "execution_count": null,
   "metadata": {},
   "outputs": [],
   "source": []
  },
  {
   "cell_type": "code",
   "execution_count": null,
   "metadata": {},
   "outputs": [],
   "source": []
  },
  {
   "cell_type": "code",
   "execution_count": null,
   "metadata": {},
   "outputs": [],
   "source": []
  },
  {
   "cell_type": "code",
   "execution_count": null,
   "metadata": {},
   "outputs": [],
   "source": []
  },
  {
   "cell_type": "code",
   "execution_count": null,
   "metadata": {},
   "outputs": [],
   "source": []
  },
  {
   "cell_type": "code",
   "execution_count": null,
   "metadata": {},
   "outputs": [],
   "source": []
  },
  {
   "cell_type": "code",
   "execution_count": null,
   "metadata": {},
   "outputs": [],
   "source": []
  },
  {
   "cell_type": "code",
   "execution_count": null,
   "metadata": {},
   "outputs": [],
   "source": [
    "def load_text(filename):\n",
    "    file=open(filename,'r')\n",
    "    text=file.read()\n",
    "    file.close\n",
    "    text=nlp(text)\n",
    "    return text"
   ]
  },
  {
   "cell_type": "code",
   "execution_count": null,
   "metadata": {},
   "outputs": [],
   "source": [
    "sentences=pd.DataFrame()\n",
    "for i in range(0,len(filename)):\n",
    "    text=load_text(filename[i])\n",
    "    author=filename[i].replace('.txt','')\n",
    "    text_sents=[[sent,author] for sent in text.sents]\n",
    "    text_df=pd.DataFrame(text_sents)\n",
    "    sentences=sentences.append(text_df)"
   ]
  },
  {
   "cell_type": "code",
   "execution_count": null,
   "metadata": {
    "scrolled": true
   },
   "outputs": [],
   "source": [
    "sentences"
   ]
  },
  {
   "cell_type": "code",
   "execution_count": null,
   "metadata": {},
   "outputs": [],
   "source": [
    "# Utility function to create a list of the 10 most common words.\n",
    "def bag_of_words(text):\n",
    "    \n",
    "    # Filter out punctuation and stop words.\n",
    "    allwords = [token.lemma_\n",
    "                for token in text\n",
    "                if not token.is_punct\n",
    "                and not token.is_stop]\n",
    "    \n",
    "    # Return the most common words.\n",
    "    return [item[0] for item in Counter(allwords).most_common(10)]"
   ]
  },
  {
   "cell_type": "code",
   "execution_count": null,
   "metadata": {},
   "outputs": [],
   "source": [
    "common_words=set()\n",
    "for i in range(0,len(filename)):\n",
    "    text=load_text(filename[i])\n",
    "    words=bag_of_words(text)\n",
    "    common_words.update(words)"
   ]
  },
  {
   "cell_type": "code",
   "execution_count": null,
   "metadata": {},
   "outputs": [],
   "source": [
    "# Creates a data frame with features for each word in our common word set.\n",
    "# Each value is the count of the times the word appears in each sentence.\n",
    "def bow_features(sentences, common_words):\n",
    "    \n",
    "    # Scaffold the data frame and initialize counts to zero.\n",
    "    df = pd.DataFrame(index=range(len(sentences)),columns=common_words)\n",
    "    print(df)\n",
    "    df['text_sentence'] = sentences[0].values\n",
    "    print(df)\n",
    "    df['text_source'] = sentences[1].values\n",
    "    print(df)\n",
    "    df.loc[:,common_words] = 0\n",
    "    \n",
    "    print()\n",
    "    print(df)\n",
    "    print(df.shape)\n",
    "    \n",
    "    print(df['text_source'])\n",
    "    \n",
    "    # Process each row, counting the occurrence of words in each sentence.\n",
    "    for i, sentence in enumerate(df['text_sentence']):\n",
    "        \n",
    "        # Convert the sentence to lemmas, then filter out punctuation,\n",
    "        # stop words, and uncommon words.\n",
    "        words = [token.lemma_\n",
    "                 for token in sentence\n",
    "                 if (\n",
    "                     not token.is_punct\n",
    "                     and not token.is_stop\n",
    "                     and token.lemma_ in common_words\n",
    "                 )]\n",
    "        \n",
    "        # Populate the row with word counts.\n",
    "        for word in words:\n",
    "            df.loc[i, word] += 1\n",
    "        \n",
    "        # This counter is just to make sure the kernel didn't hang.\n",
    "        if i % 500 == 0:\n",
    "            print(\"Processing row {}\".format(i))\n",
    "       \n",
    "    return df"
   ]
  },
  {
   "cell_type": "code",
   "execution_count": null,
   "metadata": {
    "scrolled": false
   },
   "outputs": [],
   "source": [
    "type(common_words)"
   ]
  },
  {
   "cell_type": "code",
   "execution_count": null,
   "metadata": {
    "scrolled": true
   },
   "outputs": [],
   "source": [
    "len(common_words)"
   ]
  },
  {
   "cell_type": "code",
   "execution_count": null,
   "metadata": {},
   "outputs": [],
   "source": [
    "type(sentences)"
   ]
  },
  {
   "cell_type": "code",
   "execution_count": null,
   "metadata": {
    "scrolled": true
   },
   "outputs": [],
   "source": [
    "len(sentences)"
   ]
  },
  {
   "cell_type": "code",
   "execution_count": null,
   "metadata": {
    "scrolled": true
   },
   "outputs": [],
   "source": [
    "word_counts = bow_features(sentences, common_words)"
   ]
  },
  {
   "cell_type": "code",
   "execution_count": null,
   "metadata": {},
   "outputs": [],
   "source": [
    "x"
   ]
  },
  {
   "cell_type": "code",
   "execution_count": null,
   "metadata": {},
   "outputs": [],
   "source": [
    "stop_list=stopwords.words(\"english\")"
   ]
  },
  {
   "cell_type": "code",
   "execution_count": null,
   "metadata": {},
   "outputs": [],
   "source": [
    "type(stop_list)"
   ]
  },
  {
   "cell_type": "code",
   "execution_count": null,
   "metadata": {},
   "outputs": [],
   "source": [
    "stop_list.sort()"
   ]
  },
  {
   "cell_type": "code",
   "execution_count": null,
   "metadata": {},
   "outputs": [],
   "source": [
    "stop_list"
   ]
  },
  {
   "cell_type": "code",
   "execution_count": null,
   "metadata": {},
   "outputs": [],
   "source": [
    "df.shape"
   ]
  },
  {
   "cell_type": "code",
   "execution_count": null,
   "metadata": {},
   "outputs": [],
   "source": [
    "'[1075]' in common_words"
   ]
  },
  {
   "cell_type": "code",
   "execution_count": null,
   "metadata": {},
   "outputs": [],
   "source": [
    "'[1075]' in sentences"
   ]
  },
  {
   "cell_type": "code",
   "execution_count": null,
   "metadata": {},
   "outputs": [],
   "source": [
    "len"
   ]
  },
  {
   "cell_type": "code",
   "execution_count": null,
   "metadata": {},
   "outputs": [],
   "source": []
  },
  {
   "cell_type": "code",
   "execution_count": null,
   "metadata": {
    "scrolled": false
   },
   "outputs": [],
   "source": [
    "def text_cleaner(text):\n",
    "    text=text.replace('gutenberg','')\n",
    "    text=re.sub(r'ï»¿','',text)\n",
    "    text=re.sub(r'\\n','',text)\n",
    "    text=re.sub('\\[[^()]*\\]','',text)\n",
    "    text=re.sub('\\([^()]*\\)','',text)\n",
    "    text=re.sub('[^\\w\\.\\,]',' ',text)\n",
    "    \n",
    "    text=' '.join(text.split())\n",
    "    text=text.split()\n",
    "    \n",
    "    return text"
   ]
  },
  {
   "cell_type": "code",
   "execution_count": null,
   "metadata": {},
   "outputs": [],
   "source": []
  },
  {
   "cell_type": "code",
   "execution_count": null,
   "metadata": {},
   "outputs": [],
   "source": [
    "df = pd.DataFrame()\n",
    "\n",
    "for i in range(len(filename)):\n",
    "    text = text_creater(filename[i])\n",
    "    text_clean = text_cleaner(text)\n",
    "    \n",
    "    text_doc=nlp(text_clean)\n",
    "    text_words=bag_of_words(text_doc)\n",
    "    \n",
    "    "
   ]
  },
  {
   "cell_type": "code",
   "execution_count": null,
   "metadata": {
    "scrolled": true
   },
   "outputs": [],
   "source": [
    "df.shape"
   ]
  },
  {
   "cell_type": "code",
   "execution_count": null,
   "metadata": {},
   "outputs": [],
   "source": [
    "from sklearn.preprocessing import normalize\n",
    "x=df.drop(['author'],axis=1)\n",
    "x=normalize(x)\n",
    "y=df['author']"
   ]
  },
  {
   "cell_type": "code",
   "execution_count": null,
   "metadata": {},
   "outputs": [],
   "source": [
    "from sklearn.model_selection import train_test_split\n",
    "x_train, x_test, y_train, y_test = train_test_split(x, \n",
    "                                                    y,\n",
    "                                                    test_size=0.25,\n",
    "                                                    random_state=0)"
   ]
  },
  {
   "cell_type": "code",
   "execution_count": null,
   "metadata": {},
   "outputs": [],
   "source": [
    "k=10\n",
    "model = KMeans(n_clusters=k, init='k-means++', max_iter=100, n_init=1)\n",
    "model.fit(x_train)"
   ]
  },
  {
   "cell_type": "code",
   "execution_count": null,
   "metadata": {},
   "outputs": [],
   "source": [
    "y_pred=model.predict(x_test)"
   ]
  },
  {
   "cell_type": "code",
   "execution_count": null,
   "metadata": {},
   "outputs": [],
   "source": [
    "from sklearn import metrics\n",
    "    \n",
    "metrics.adjusted_rand_score(y_test, y_pred)"
   ]
  },
  {
   "cell_type": "code",
   "execution_count": null,
   "metadata": {},
   "outputs": [],
   "source": [
    "y_pred=model.predict(x_train)\n",
    "metrics.adjusted_rand_score(y_train, y_pred)"
   ]
  },
  {
   "cell_type": "code",
   "execution_count": null,
   "metadata": {},
   "outputs": [],
   "source": [
    "from sklearn.metrics import pairwise_distances\n",
    "\n",
    "model.fit(x)\n",
    "labels=model.labels_\n",
    "\n",
    "score=metrics.silhouette_score(x, labels, metric='euclidean')\n",
    "print(score)"
   ]
  },
  {
   "cell_type": "code",
   "execution_count": null,
   "metadata": {},
   "outputs": [],
   "source": [
    "from sklearn.linear_model import LogisticRegressionCV\n",
    "\n",
    "lr = LogisticRegressionCV(cv=4)\n",
    "lr.fit(x,y)\n",
    "lr.score(x,y)"
   ]
  },
  {
   "cell_type": "code",
   "execution_count": null,
   "metadata": {},
   "outputs": [],
   "source": [
    "from sklearn import ensemble\n",
    "rfc = ensemble.RandomForestClassifier()\n",
    "train = rfc.fit(x_train, y_train)\n",
    "\n",
    "print('Training set score:', rfc.score(x_train, y_train))\n",
    "print('\\nTest set score:', rfc.score(x_test, y_test))"
   ]
  },
  {
   "cell_type": "code",
   "execution_count": null,
   "metadata": {},
   "outputs": [],
   "source": []
  }
 ],
 "metadata": {
  "kernelspec": {
   "display_name": "Python 3",
   "language": "python",
   "name": "python3"
  },
  "language_info": {
   "codemirror_mode": {
    "name": "ipython",
    "version": 3
   },
   "file_extension": ".py",
   "mimetype": "text/x-python",
   "name": "python",
   "nbconvert_exporter": "python",
   "pygments_lexer": "ipython3",
   "version": "3.7.1"
  }
 },
 "nbformat": 4,
 "nbformat_minor": 2
}
