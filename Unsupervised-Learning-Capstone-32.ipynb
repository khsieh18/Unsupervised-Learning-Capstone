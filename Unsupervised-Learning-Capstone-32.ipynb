{
 "cells": [
  {
   "cell_type": "markdown",
   "metadata": {},
   "source": [
    "## Unsupervised Capstone Project"
   ]
  },
  {
   "cell_type": "markdown",
   "metadata": {},
   "source": [
    "### Ten articles with 10 different authors have been selected for this project. The articles are obtained from free Gutenberg Project and they are all Christmas-related."
   ]
  },
  {
   "cell_type": "code",
   "execution_count": 1,
   "metadata": {},
   "outputs": [],
   "source": [
    "import timeit\n",
    "start=timeit.default_timer()"
   ]
  },
  {
   "cell_type": "code",
   "execution_count": 2,
   "metadata": {},
   "outputs": [],
   "source": [
    "%matplotlib inline\n",
    "import numpy as np\n",
    "import pandas as pd\n",
    "import scipy\n",
    "import sklearn\n",
    "import matplotlib.pyplot as plt\n",
    "import seaborn as sns\n",
    "import re\n",
    "from sklearn.cluster import KMeans\n",
    "from sklearn.preprocessing import normalize\n",
    "from sklearn.decomposition import PCA\n",
    "\n",
    "from collections import Counter"
   ]
  },
  {
   "cell_type": "code",
   "execution_count": 3,
   "metadata": {},
   "outputs": [],
   "source": [
    "import warnings\n",
    "warnings.filterwarnings(\"ignore\")"
   ]
  },
  {
   "cell_type": "code",
   "execution_count": 4,
   "metadata": {},
   "outputs": [],
   "source": [
    "import spacy\n",
    "nlp = spacy.load('en')\n",
    "from spacy.lang.en.stop_words import STOP_WORDS"
   ]
  },
  {
   "cell_type": "code",
   "execution_count": 5,
   "metadata": {},
   "outputs": [],
   "source": [
    "from sklearn.feature_extraction.text import TfidfVectorizer\n",
    "from sklearn.cluster import KMeans\n",
    "from sklearn.metrics import adjusted_rand_score"
   ]
  },
  {
   "cell_type": "code",
   "execution_count": 6,
   "metadata": {},
   "outputs": [],
   "source": [
    "from sklearn import ensemble\n",
    "from sklearn.model_selection import train_test_split\n",
    "from sklearn.linear_model import LogisticRegression"
   ]
  },
  {
   "cell_type": "code",
   "execution_count": 7,
   "metadata": {},
   "outputs": [],
   "source": [
    "from sklearn.feature_extraction.text import CountVectorizer"
   ]
  },
  {
   "cell_type": "markdown",
   "metadata": {},
   "source": [
    "## Load files"
   ]
  },
  {
   "cell_type": "code",
   "execution_count": 8,
   "metadata": {
    "scrolled": false
   },
   "outputs": [],
   "source": [
    "filename=['brady.txt','butler.txt','cutting.txt','dawson.txt','dyke.txt',\n",
    "          'hughes.txt','mitchell.txt','richmond.txt','rinehart.txt','stretton.txt']\n"
   ]
  },
  {
   "cell_type": "code",
   "execution_count": 9,
   "metadata": {},
   "outputs": [],
   "source": [
    "def load_text(filename):\n",
    "    file=open(filename,'r')\n",
    "    text=file.read()\n",
    "    file.close\n",
    "    return text"
   ]
  },
  {
   "cell_type": "code",
   "execution_count": 10,
   "metadata": {},
   "outputs": [],
   "source": [
    "text=load_text(filename[2])"
   ]
  },
  {
   "cell_type": "code",
   "execution_count": 11,
   "metadata": {},
   "outputs": [],
   "source": [
    "text=text.lower()"
   ]
  },
  {
   "cell_type": "code",
   "execution_count": 12,
   "metadata": {},
   "outputs": [],
   "source": [
    "punctuations = '''!()-[]{};:'\"\\,<>./?@#$%^&*_~'''"
   ]
  },
  {
   "cell_type": "code",
   "execution_count": 13,
   "metadata": {},
   "outputs": [],
   "source": [
    "no_punct = \"\"\n",
    "for char in text:\n",
    "   if char not in punctuations:\n",
    "       no_punct = no_punct + char\n",
    "text=no_punct"
   ]
  },
  {
   "cell_type": "code",
   "execution_count": 14,
   "metadata": {},
   "outputs": [],
   "source": [
    "text=text.replace(\"ï»¿\",\" \")\n",
    "text=text.replace(\"\\n\",\" \")"
   ]
  },
  {
   "cell_type": "code",
   "execution_count": 16,
   "metadata": {},
   "outputs": [],
   "source": [
    "text=text.split()"
   ]
  },
  {
   "cell_type": "code",
   "execution_count": 17,
   "metadata": {},
   "outputs": [],
   "source": [
    "size=int(len(text)/10)\n",
    "para=[None] * 10\n",
    "j=0\n",
    "for i in range(0,10):\n",
    "    para[i]=text[j:j+size]\n",
    "    para[i]=' '.join(para[i])\n",
    "    j=j+size"
   ]
  },
  {
   "cell_type": "code",
   "execution_count": 18,
   "metadata": {},
   "outputs": [
    {
     "data": {
      "text/plain": [
       "['mr langshaw had vaguely felt unusual preparations for a christmas gift to him this year he was always being asked for change to pay the children for services rendered it might have seemed a pity that calculation as to dollars and cents entered so much into the christmas festivities of the family if it were not that it entered so largely into the scheme of living that it was naturally interwoven with every dearest hope and fancy the overcoming of its limitations gave a zest to life langshaw himself stopping now as was his daily habit to look at the display made by the sportinggoods shop on his way home the friday afternoon before christmas monday wondered as his hand touched the tendollar bill in his pocketa debt unexpectedly paid him that dayif the time had actually arrived at last when he might become the possessor of the troutrod that stood in the corner of the window reduced as the ticket proclaimed from fifteen dollars to ten the inspiration was the more welcome because the moment before his mind had been idly yet disquietingly filled with the shortcomings of george his eldest child and only son aged ten who didnt seem to show that sense of responsibility which his position and advanced years called foreven evading his duties to his fond mother when he should be constituting himself her protector he was worried as to the way george would turn out when he grew up this particular troutrod however had an attraction for langshaw of long standing he had examined it carefully more than once when in the shop with his neighbour wickersham it wasnt a fiftydollar rod of course but it seemed in some ways as good as if it wereit was expensive enough for him he had spoken of it once to his wife with a craving for her usual sympathy only to meet with a surprise that seemed carelessly disapproving why you have that old one of your fathers and the bassrod already i cant see why you should want another you always say you cant get off to go fishing as it is he couldnt explain that to have this particular split bamboo would be almost as good as going on a fishing trip with it in his hand he could feel himself between green meadows the line swirling down the rushing brook but later clytie had gone back to the subject with pondering consideration ten dollars seems an awful price for a rod im sure i could buy the same thing for much less uptown wouldnt you like me to see about it some day great scott never think of such a thing he had replied in horror i could get much cheaper ones myself if i ever have the money ill do the buyingyou hear hello langshaw looking at that rod again why dont you blow yourself to a christmas present havent you got the nerve thats what i dont know called langshaw with a wave of the hand as wickersham',\n",
       " 'passed by yet even as he spoke he felt he did knowhis mind was joyously adventurously made up to have the nerve he had a right for once in the twelve years of his married life to buy himself a christmas present that he really wanted in distinction to the gift that family affection prompted and held dear as such but which had no relation to his needs or desires children and friends were provided for his wifes winter suita present by her transforming imaginationalready in the house the christmas turkey for the janitor of the childrens school subscribed tosometimes he had wished himself the janitorand all the small demands that drain the purse at the festal season carefully counted up and allowed for there was no lien on this unexpected sum just received the reel and the line and the flies and such would have to wait until another time to be sure but no one could realize what it would be to him to come home and find that blessed rod there he had a wild impulse to go in and buy it that moment but such haste seemed too slighting to the dignity of that occasion which should allow the sweets of anticipationthough no one knew better than he the danger of delay where money was concerned it melted like snow in the pocket extra funds always seemed to bring an extra demand the last time there was ten dollars to spare there had been a letter from langshaws mother saying that his sister ella whose husband was unfortunately out of a position had developed flatfoot and a pair of suitable shoes costing ninefifty had been prescribed by the physician was it possible for her dear boy to send the money ella was so depressed the ten dollars had of course gone to ella both langshaw and his wife had an unsympathetic feeling that if they developed flatfoot now they would have to go without appropriate shoes you look quite gay said his wife as she greeted him on his return her pretty oval face with its large dark eyes and dark curly locks held up to be kissed has anything nice happened you look gay too he evaded laughingly as his arms lingered round her clytie was always a satisfactory person for a wife whats this pink stuff on your hairpopcorn oh goodness baby has been so bad she has been throwing it round everywhere she answered running ahead of him upstairs to a room that presented a scene of brilliant disorder on the bed was a large box of tinselled christmastree decorations and another of pinkandwhite popcornthe flotsam and jetsam of which strewed the counterpane and the floor to its farthest corners mingled with scraps of glittering paper an acreage of which surrounded a table in the centre of the room that was adorned with mucilage pot and scissors a large feathered hat a blue silk dress and a flowered skirt were on the rug near which a very plump child of',\n",
       " 'three with straggling yellow hair was trying to get a piece of gilt paper off her shoe she looked up with roguish blue eyes to say rapidly fardie doesnt know what baby goin agive m for kissemus hello this looks like the real thing said langshaw stepping over the dã©bris but what are all these clothes on the floor for oh mary was dressing up and just dropped those things when she went to the village with viney though i called her twice to come back and pick them up said the mother sweeping the garments out of the way its so tiresome of her oh i know you stand up for everything mary does joe langshaw but she is the hardest child to manage her tone insensibly conveyed a pride in the difficulty of dealing with her elder daughter aged six but did you ever see anything like baby she can keep a secret as well as any one it does look christmasy thoughdoesnt it of course all the work of the tree at the mission comes on me as usual the children with the two wickersham girls were helping me until they got tired why dont you come and kiss father baby she is going to sweep up the floor with her little broom so that father will give her five cents i dont want to fweep e floor said the child snapping her blue eyes she shall get her little broom and fardie will help her said langshaw catching the child up in his arms and holding the round little form closely to him before putting her down carefully on her stubby feet later when the game of clearing up was over and the nickel clutched in babys fat palm he turned to his wife with a halffrown dont you think you are making the children rather mercenary clytie they seem to want to be paid for everything they do im just about drained out of change oh at christmas said the wife expressively well i hope nobody is going to spend any money on me the only presents i want are those you make for me said langshaw warningly he gave the same warning each year undeterred by the nature of the articles produced his last years christmas from clytie had been a pair of diaphanous blue chinasilk pyjamas that were abnormally large in chest and sleevesas for one of giant proportionsand correspondingly contracted in the legs owing to her cutting out the tops first and having to get the other necessary adjuncts out of the scant remainder of the material you hear me clytie yes i hear returned clytie in a bored tone do you know langshaw hesitated a boyish smile overspreading his countenance i was looking at that troutrod in burchells window today i dont suppose you remember my speaking of it but ive had my eye on it for a long time he paused expectant of encouraging interest oh have you dear said clytie absently the room was gradually under',\n",
       " 'her fingers resuming its normal appearance she turned suddenly with a vividly animated expression i must tell you that youre going to get a great surprise tonightit isnt a christmas present but its something that youll like even better i know its about something that george has been doing youll never guess what it is is that so said langshaw absently in his turn he had a momentary sense of being set back in his impulse to confidences that was not after all untinged with pleasure his delightful secret was still his own unmarred by unresponsive criticism by the way clytie i dont like the way george has been behaving lately he hasnt shown me his report from school in months whenever i ask him for it he has some excuse hello is that little mary crying i wonder what on earth has happened now exclaimed the mother rushing from the room to return the next instant pulling after her a redcloaked and redhatted little girl who sought to hide behind her well what do you think shes done clyties tone was withering as she haled forth the shrinking culprit her small hands over her eyes she lost her purse with the dollar she had saved up for your christmas presentlost the money for dear fathers present and all because she took it with her to buy a fivecent pencila green pencil with purple glass in the end of it to buy something for herself before christmas clytie paused tragically of course if she hadnt taken her money out to spend it on herself she wouldnt have lost it i dont care burst out the culprit her big dark eyes just like her mothers flashing from under her brown curls and her red lips set defiantly it was my own money anyhow if i did lose it i earned it all myself it wasnt yours oh oh oh interposed the father in gentle reproof little girls mustnt talk like that to dear mother come get up here on fathers kneeso he took off the red cap tucked the brown curly head in the bend of his arm his chin resting on the top of it as he went on with the childs small hands clutching at his mary must always do what mother says but so far as this money is concerned you can make me something that i would like far better than anything you could buy why dont you make me another pincushion for instance the one you gave me last year is quite worn out a pink one asked mary faintly yes whats the matter now the child had suddenly wriggled to a kneeling posture in his hold and had her little strangling arms round his neck in a tempest of sobs i dont want to give you a piink pincushioni dont want to i want my dollar i want my dollarto spend i wantfather i want my dollarmy dooollar i want my what did i tell you mary langshaw cried clytie she appealed',\n",
       " 'to her husband its just the way i knew shed act now i suppose youll have to give it to her mary be still a momenther head is so hot there there said langshaw soothingly she shall have her money this minute of course she doesnt deserve it said clytie but with a tone of relief in her voice that seemed oddly greater than the occasion warranted mary had wound herself round him passionately her sobs were dying away happily in long deep breaths at intervals baby being undressed on her mothers lap was laughing over some pieces of gilt paper in the heart of this domesticity it was as if the father and mother were embarked with this little company on a full and swelling river of love of which they felt the exquisite soothing ripples langshaw put his hand into his pocket no i cant give you the dollar this minute little girl father has only a tendollar bill ill get it changed right after dinner isnt dinner most ready clytie well go down just as soon as i get baby in bed said the mother peacefully i dont see why george isnt here goodness there he is now she added as a tremendous slam of the front door announced the fact the next moment a small boy roguishly blueeyed and yellowhaired like baby with an extremely dirty face and a gray sweater half covered with mud hurled himself into the room surreptitiously tickling one of babys bare feet and pulling marys curls on his way to greet his father what have you been doing to get so dirty playing cops and robbers said the boy serenely his dimples appeared suddenly his eyes lit up say motherhe turned to her irresolutelyshall i tell father now not until after dinner returned the mother inexorably go and make yourself clean may i put on my white silk tie georges white tie was the banner of festivity yes you rouse my curiosity this seems to be a great occasion said langshaw oh it is agreed the mother happily she murmured in his ear as they went downstairs i hope youll show that youre pleased dear you know sometimes when you really are pleased you dont show it at onceand george has been trying so hard if youll only show that youre pleased yesall right returned the husband a little impatiently clytie had a sensitive consideration for her sons feelings which struck him at times as exaggerated he thought of the delightful secret back in his own mind there was no reason for talking any more about the rod until he bought it he would manage to replace the dollar abstracted from the reserve fund if he gave absent answers during the meal clytie seemed to be preoccupied also little mary who sat by him tucked her hand into his as she prattled now george said his mother at last suddenly when the rice pudding had been finished george rose clean and redcheeked looking more than ever like a',\n",
       " 'large edition of baby in spite of his jacket and knickerbockers as he stepped over to his father with a new dignity and handed him a folded sheet of paper whats this asked langshaw genially opening it he read aloud the words within written laboriously in a round boyish hand to george brander langshaw from father you oh me five dolars reseived paiment hello hello what does this mean asked langshaw slowly with an unpleasant startled sensation that any such sum in connection with george was out of all reason it means a bill for you from me announced george his cheeks grew redder his blue eyes looked squarely at his father its for this he pulled from his pocket a school report card divided into tiny ruled squares filled with figures for half its length and flung it down proudly on the table before his parent its the deportmentsince september you said when miss skinner sent that last note home about me that if i could get a hundred in deportment for every month up to christmas youd be willing to pay me five dollars you can see there for yourself father the three one hundredsno not that linethats only fiftyfive for spelling nobody ever knows their spelling here is the place to lookin the deportment column ive tried awful hard to be good father to surprise you the way that child has tried burst forth clytie her dark eyes drowned in sparkles and theyre so unfair at schoolgiving you a mark if you squeak your chair or speak or look at anybody as if any child could be expected to sit like a stone all the time im sure i love to hear children laughingand you know yourself how hard it is for george to be quiet we had a little talk about it together he and i and now you see its been such work keeping his card from you each month when you asked for it one day he thought he had a bad mark and he couldnt eat any dinneryou thought he was ill but he went to miss skinner the next day and she took it off because he had been trying so hard to be good joe why dont you speak george im proud of you said langshaw simply there was a slight huskiness in his voice the round face and guileless blue eyes of his little boy who had tried awful hard to be good seemed to have acquired a new dignity the father saw in him the grownup son who could be depended upon to look after his mother if need were langshaw held out his hand as man to man the two pairs of eyes met squarely nothing you could have done would have pleased me more than this george i value it more than any christmas present i could have mother said youd like it said the beaming george ducking his head suddenly and kicking out his legs from behind and youll pay the five dollars',\n",
       " 'supplemented clytie anxiously surely said langshaw the glances of the parents met in one of the highest pleasures that life affords the approval together of the good action of their dear child george can go out and get this tendollar bill changed if you cant spare it father suggested the boy with some new sense of manliness hanging back im glad to be able to spare it said the father soberly its a good deal of money he added i suppose of course youll put it in the bank george now you mustnt ask what hes going to do with it said clytie oh isnt it much cried little mary dear me theres the doorbell said clytie who can it be at this hour run george and see its a letter for you mother announced george reappearing theres a man in the hall waiting for an answer it looks like a bill said clytie nervously tearing open the envelope but i dont owe any bill why its two and a quarter from the tailor for fixing over my old suit last fall im positive i paid it weeks ago theres some mistake he says hes been here three times but you were out have you any money for it clytie asked her husband clytie looked as if a thunderbolt had struck her yes i have butoh i dont want to take it for that i need every penny ive got well theres no need of feeling so badly about it said langshaw resignedly give the tendollar bill to the man george and see if he can change it he couldnt resist a slight masculine touch of severity at her incapacity i wish youd tend to these things at the time clytie or let me know about them he took the money when george returned heres your dollar now marydont lose it againand your five george you might as well take another dollar yourself clytie for extras he pocketed the remainder of the change carelessly after his first pang at the encroachment on the reserve fund the rod had sunk so far out of sight that it was almost as if it had never been he had of course known all along that he would not buy it even the sting of the amount due quickly evaporated little mary gave a jump that bumped her brown curly head against him you dont know what im going to give you for christmas she cried joyously ii langshaw was one of those men who have an inherited capacity for enjoying christmas he lent it his attention with zest choosing the turkey himself with critical care as he went through the big market in town from whence he brought also wreaths and branches of holly that seemed to have larger and redder berries than could be bought in the village on christmas eve he put up the greens that decorated the parlour and diningrooma ceremony that required large preparations with a stepladder a hammer tacks and string the removal of his',\n",
       " 'coat and a lighted pipe in one corner of his mouth and which proceeded with such painstaking slowness on account of his coming down from the ladder every other moment to view the artistic effect of the arrangements that it was only by sticking the last branches up any old way at clyties wild appeal that he ever got it finished at all then he helped her fill the stockings his own fingers carefully giving the crowning effect of orange and cornucopia in each one and arranging the large packages below after tiptoeing down the stairs with them so as not to wake the officially sleeping children who were patently stark awake thrashing or coughing in their little beds the sturdy george had never been known to sleep on christmas eve always coming down the next day esthetically pale and with abnormally large eyes to the feast of rapture on this saturdaychristmas eves evewhen langshaw finally reached home laden with all the last things and the impossible packages of tortuous shapes left by fond relatives at his office for the childrenone pocket of his overcoat weighted with the lovebox of really good candy for clytieit was evident as soon as he opened the hall door that something unusual was going on upstairs wild shrieks of its father its father rent the air its father fardie fardie dont come up father dont come up father its your present there was hasty scurrying of feet racing to and fro and further shrieks langshaw waited smiling it was evidently a boughten gift then the last had been a water pitcher much needed in the household he braced himself fondly for immense enthusiasm over this an expression of intense excitement was visible on each face when finally he was allowed to enter the upper room mary and baby rushed at him to clasp his leg while his wife leaned over to kiss him as he whispered i brought out a lot of truck its all in the closet in the hall george standing with his hands in his pockets proclaimed loudly with sparkling eyes you nearly saw your present its from mother and us come here baby and pull brothers leg say father do you like cut glass ooh came in ecstatic chorus from the other two as at a delightful joke its a secret announced baby her yellow hair falling over one round blue eye i believe its a pony said the father im sure i heard a pony up here shouts of renewed joy greeted the jest all the next day christmas eve itself whenever two or three of the family were gathered together there were secret whisperings more scurryings and frenzied warnings for the father not to come into the room in spite of himself langshaw began to get a little curious as to the tobacco jar or the fire shovel or whatever should be his portion he not only felt resigned to not having the troutrod but a sort of wonder also rose in him that he',\n",
       " 'had been bewitchedeven momentarilyinto thinking he could have it what did it matter anyway its worth it old girl isnt it he said cryptically as he and clytie met once unexpectedly in the hall and he put his arm round her yes answered his wife her dark eyes lustrous sometimes she didnt look much older than little mary one thing though i must say i do hope dear thatthe children have been thinking so much of our present to you and saving up so for iti do hope joe that if you are pleased youll show it so far as im concerned it doesnt matter but sometimeswhen of course i know how pleased you really areyou dont show it at once to others thats why i hope youll show it tomorrow if great scott clytie let up on it what do you want me to dojump up and down and make a fool of myself asked her husband scornfully you leave me alone it was langshaws firm rule vainly protested even by his wife that the household should have breakfast on christmas day before tackling the stockingsa hurried mockery of a meal to be sure yet to his masculine idea a reã«nforcement of food for the infant stomach before the long hurtling joy of the day the stockings and the piles under them were taken in order according to agethe youngest first and the others waiting in rapt interest and admiration until their turn arriveda pretty ceremony in the delicious revelry of babys joy as her trembling fat little fingers pulled forth dolls and their like all else was forgotten until it was marys turn and then georges and then the mothers and then when he had forgotten all about it now father there was seemingly a breathless moment while all eyes turned to him its fathers turn now fathers going to have his presents father sit down here on the sofaits your turn now there were only a blue cornucopia and an orange and a bottle of olives in his stocking a christmas card from his sister ella a necktie from grandmamma and nothing as his quick eye had noted under it on the floor but now george importantly stooped down drew a narrow package from under the sofa and laid it beside his father pulling off the paper inside was a slim longish gray linen bag langshaw studied it for a moment before opening it well ill be jiggered he breathed with a strange glance round at the waiting group and an odd crooked smile ill be jiggered there in its neatly grooved sections lay the rod ready to be put togethernot a rod but as his eye almost unbelievingly reassured him the rodthe ticket of the shop adorning itin all its beauty of golden shellac and delicate tip his fingers touched the pieces reverently well will you look at that how did you ever think of getting it how did i think of it because you talked about it all the time said his',\n",
       " 'wife scornfully with her arms round his neck from behind while the children flung themselves upon him oh i know you thought you didnt but you did just the same george heard you too we got mr wickersham to pick it out he said it was the one you wanted and the reelyou havent noticed that box therethe reel is the right kind he says and the line is silkthe best theres the book of flies toosix babys crazy over them mr wickersham said it was all just what you ought to have weve been saving up for the longest time but we had to wait you see for georges deportment before the things could be bought if it isnt right right say this is the finest present i ever had said langshaw with glittering eyes and that little crooked smile it just beats everything he rose scattering his adoring family and walking to the window threw it open to the frosty december air and called across to a neighbour standing on the walk want to come over here hendon got something to show you will you look at this present from my wife and the kidsbeen saving up for it its a peach ill tell you that im going to take george off fishing this springwhat well come over later when youve got time to take a good look at it do you like it father came from three different voices at once do i like it you can just bet i do said langshaw emphatically he bent and kissed the three upturned faces and leaned toward his wife afterward to press her sweet waiting lips with his but his eyes as if drawn by a magnet were only on the rodnot the mere bundle of sticks he might have bought but transformed into one blossoming with love and do you know we hardly saw a thing of him all day clytie proudly recounted afterward to her sister my dear he would hardly take time to eat his dinner or speak to any one he was out in the back yard with henry wickersham and mr hendon until dark flapping that rod in circlesthe silliest thing he nearly sent a hook into georges eye once george acted as bewitched as he did joe kept telling every single person who came along that it was a present from his wife and the kids he certainly showed that he was pleased its been a pretty nice day hasnt it langshaw said to his wife that christmas night when the children were at last in bed best christmas i ever had to think of you and the kids doing all this for me his hand rested lovingly on the rod now once again swathed in the gray linen bag he would have been the last to realize that in his humble way he typified a diviner fatherhood to the little family who trusted in his care for themfor all things came of him and of his own had they']"
      ]
     },
     "execution_count": 18,
     "metadata": {},
     "output_type": "execute_result"
    }
   ],
   "source": [
    "para"
   ]
  },
  {
   "cell_type": "code",
   "execution_count": 19,
   "metadata": {
    "scrolled": false
   },
   "outputs": [
    {
     "ename": "NameError",
     "evalue": "name 'xx' is not defined",
     "output_type": "error",
     "traceback": [
      "\u001b[1;31m---------------------------------------------------------------------------\u001b[0m",
      "\u001b[1;31mNameError\u001b[0m                                 Traceback (most recent call last)",
      "\u001b[1;32m<ipython-input-19-ce3af7760f12>\u001b[0m in \u001b[0;36m<module>\u001b[1;34m\u001b[0m\n\u001b[1;32m----> 1\u001b[1;33m \u001b[0mxx\u001b[0m\u001b[1;33m\u001b[0m\u001b[1;33m\u001b[0m\u001b[0m\n\u001b[0m",
      "\u001b[1;31mNameError\u001b[0m: name 'xx' is not defined"
     ]
    }
   ],
   "source": [
    "xx"
   ]
  },
  {
   "cell_type": "code",
   "execution_count": 20,
   "metadata": {},
   "outputs": [],
   "source": [
    "X_df=pd.DataFrame(para)"
   ]
  },
  {
   "cell_type": "code",
   "execution_count": 21,
   "metadata": {},
   "outputs": [
    {
     "data": {
      "text/html": [
       "<div>\n",
       "<style scoped>\n",
       "    .dataframe tbody tr th:only-of-type {\n",
       "        vertical-align: middle;\n",
       "    }\n",
       "\n",
       "    .dataframe tbody tr th {\n",
       "        vertical-align: top;\n",
       "    }\n",
       "\n",
       "    .dataframe thead th {\n",
       "        text-align: right;\n",
       "    }\n",
       "</style>\n",
       "<table border=\"1\" class=\"dataframe\">\n",
       "  <thead>\n",
       "    <tr style=\"text-align: right;\">\n",
       "      <th></th>\n",
       "      <th>0</th>\n",
       "    </tr>\n",
       "  </thead>\n",
       "  <tbody>\n",
       "    <tr>\n",
       "      <th>0</th>\n",
       "      <td>mr langshaw had vaguely felt unusual preparati...</td>\n",
       "    </tr>\n",
       "    <tr>\n",
       "      <th>1</th>\n",
       "      <td>passed by yet even as he spoke he felt he did ...</td>\n",
       "    </tr>\n",
       "    <tr>\n",
       "      <th>2</th>\n",
       "      <td>three with straggling yellow hair was trying t...</td>\n",
       "    </tr>\n",
       "    <tr>\n",
       "      <th>3</th>\n",
       "      <td>her fingers resuming its normal appearance she...</td>\n",
       "    </tr>\n",
       "    <tr>\n",
       "      <th>4</th>\n",
       "      <td>to her husband its just the way i knew shed ac...</td>\n",
       "    </tr>\n",
       "    <tr>\n",
       "      <th>5</th>\n",
       "      <td>large edition of baby in spite of his jacket a...</td>\n",
       "    </tr>\n",
       "    <tr>\n",
       "      <th>6</th>\n",
       "      <td>supplemented clytie anxiously surely said lang...</td>\n",
       "    </tr>\n",
       "    <tr>\n",
       "      <th>7</th>\n",
       "      <td>coat and a lighted pipe in one corner of his m...</td>\n",
       "    </tr>\n",
       "    <tr>\n",
       "      <th>8</th>\n",
       "      <td>had been bewitchedeven momentarilyinto thinkin...</td>\n",
       "    </tr>\n",
       "    <tr>\n",
       "      <th>9</th>\n",
       "      <td>wife scornfully with her arms round his neck f...</td>\n",
       "    </tr>\n",
       "  </tbody>\n",
       "</table>\n",
       "</div>"
      ],
      "text/plain": [
       "                                                   0\n",
       "0  mr langshaw had vaguely felt unusual preparati...\n",
       "1  passed by yet even as he spoke he felt he did ...\n",
       "2  three with straggling yellow hair was trying t...\n",
       "3  her fingers resuming its normal appearance she...\n",
       "4  to her husband its just the way i knew shed ac...\n",
       "5  large edition of baby in spite of his jacket a...\n",
       "6  supplemented clytie anxiously surely said lang...\n",
       "7  coat and a lighted pipe in one corner of his m...\n",
       "8  had been bewitchedeven momentarilyinto thinkin...\n",
       "9  wife scornfully with her arms round his neck f..."
      ]
     },
     "execution_count": 21,
     "metadata": {},
     "output_type": "execute_result"
    }
   ],
   "source": [
    "X_df"
   ]
  },
  {
   "cell_type": "code",
   "execution_count": null,
   "metadata": {},
   "outputs": [],
   "source": []
  },
  {
   "cell_type": "code",
   "execution_count": null,
   "metadata": {},
   "outputs": [],
   "source": []
  },
  {
   "cell_type": "code",
   "execution_count": null,
   "metadata": {},
   "outputs": [],
   "source": []
  },
  {
   "cell_type": "code",
   "execution_count": null,
   "metadata": {},
   "outputs": [],
   "source": [
    "#from nltk.corpus import stopwords\n",
    "#stop=stopwords.words(\"english\")"
   ]
  },
  {
   "cell_type": "code",
   "execution_count": null,
   "metadata": {},
   "outputs": [],
   "source": []
  },
  {
   "cell_type": "code",
   "execution_count": null,
   "metadata": {},
   "outputs": [],
   "source": []
  },
  {
   "cell_type": "code",
   "execution_count": null,
   "metadata": {},
   "outputs": [],
   "source": []
  },
  {
   "cell_type": "code",
   "execution_count": null,
   "metadata": {},
   "outputs": [],
   "source": []
  }
 ],
 "metadata": {
  "kernelspec": {
   "display_name": "Python 3",
   "language": "python",
   "name": "python3"
  },
  "language_info": {
   "codemirror_mode": {
    "name": "ipython",
    "version": 3
   },
   "file_extension": ".py",
   "mimetype": "text/x-python",
   "name": "python",
   "nbconvert_exporter": "python",
   "pygments_lexer": "ipython3",
   "version": "3.7.1"
  }
 },
 "nbformat": 4,
 "nbformat_minor": 2
}
